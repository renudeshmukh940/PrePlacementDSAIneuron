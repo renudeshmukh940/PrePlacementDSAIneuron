{
 "cells": [
  {
   "attachments": {},
   "cell_type": "markdown",
   "metadata": {},
   "source": [
    "# DSA Assignment 1 Solution"
   ]
  },
  {
   "attachments": {},
   "cell_type": "markdown",
   "metadata": {},
   "source": [
    "**Q1.** Given an array of integers nums and an integer target, return indices of the two numbers such that they add up to target. \n",
    "\n",
    "You may assume that each input would have exactly one solution, and you may not use the same element twice. \n",
    "\n",
    "You can return the answer in any order. \n",
    "\n",
    "**Example:** Input: nums = [2,7,11,15], target = 9 Output0 [0,1] \n",
    "\n",
    "**Explanation:** Because nums[0] + nums[1] == 9, we return [0, 1] "
   ]
  },
  {
   "attachments": {},
   "cell_type": "markdown",
   "metadata": {},
   "source": [
    "`Approach` :\n",
    "\n",
    "1. Create an empty hashmap to store the values and their indices.\n",
    "2. Iterate through the array `nums`.\n",
    "3. For each element `num` in `nums`, calculate the `complement` by subtracting `num` from the `target`.\n",
    "4. Check if the `complement `exists in the hashmap.\n",
    "- a. If it does, return the indices `[hashmap[complement], current_index]`.\n",
    "- b. If it doesn't, add the current `num `and its index to the hashmap.\n",
    "5. If no solution is found after iterating through the entire array, return an empty array since each input is assumed to have exactly one solution."
   ]
  },
  {
   "attachments": {},
   "cell_type": "markdown",
   "metadata": {},
   "source": [
    "**Time Complexity** : `O(n)` --> We Will iterate the array (len of n) only once.\n",
    "\n",
    "**Space Complexity**: `O(n)` --> Need to store all the elements of the array into the hashmap."
   ]
  },
  {
   "cell_type": "code",
   "execution_count": 2,
   "metadata": {},
   "outputs": [
    {
     "name": "stdout",
     "output_type": "stream",
     "text": [
      "[0, 1]\n"
     ]
    }
   ],
   "source": [
    "def twoSum(nums, target):\n",
    "    hashmap = {}\n",
    "    for i, num in enumerate(nums):\n",
    "        complement = target - num\n",
    "        if complement in hashmap:\n",
    "            return [hashmap[complement], i]\n",
    "        hashmap[num] = i\n",
    "    return []\n",
    "\n",
    "nums = [2, 7, 11, 15]\n",
    "target = 9\n",
    "result = twoSum(nums, target)\n",
    "print(result)  \n"
   ]
  },
  {
   "attachments": {},
   "cell_type": "markdown",
   "metadata": {},
   "source": [
    "**Q2.** Given an integer array nums and an integer val, remove all occurrences of val in nums in-place. The order of the elements may be changed. Then return the number of elements in nums which are not equal to val.\n",
    "\n",
    "Consider the number of elements in nums which are not equal to val be k, to get accepted, you need to do the following things:\n",
    "\n",
    "- Change the array nums such that the first k elements of nums contain the elements which are not equal to val. The remaining elements of nums are not important as well as the size of nums.\n",
    "- Return k.\n",
    "\n",
    "**Example :**\n",
    "Input: nums = [3,2,2,3], val = 3\n",
    "Output: 2, nums = [2,2,_*,_*]\n",
    "\n",
    "**Explanation:** Your function should return k = 2, with the first two elements of nums being 2. It does not matter what you leave beyond the returned k (hence they are underscores)"
   ]
  },
  {
   "attachments": {},
   "cell_type": "markdown",
   "metadata": {},
   "source": [
    "`Approach` : we can use the two-pointer approach\n",
    "\n",
    "1. Initialize `slow = 0`, which will be used to track the index where the next non-val element will be placed.\n",
    "2. Iterate through the array `nums` with the `fast `pointer.\n",
    "3. If `nums[fast]` is not equal to `val`, assign `nums[slow] = nums[fast]`, and increment both `slow` and `fast` by 1.\n",
    "4. If `nums[fast]` is equal to `val`, simply increment `fast` by 1 without modifying `nums[slow]`.\n",
    "5. Repeat steps 3-4 until the `fast `pointer reaches the end of the array.\n",
    "6. Return the value of `slow`, which represents the number of elements in `nums` that are not equal to `val`."
   ]
  },
  {
   "attachments": {},
   "cell_type": "markdown",
   "metadata": {},
   "source": [
    "**Time Complexity**: `O(n)` -->  where n is the length of the input array `nums`.\n",
    "\n",
    "**Space Complexity**: `O(1)` --> we do not use any extra space that scales with the input size. We only use a constant amount of additional space to store the `two pointers` and some temporary variables"
   ]
  },
  {
   "cell_type": "code",
   "execution_count": 3,
   "metadata": {},
   "outputs": [
    {
     "name": "stdout",
     "output_type": "stream",
     "text": [
      "2\n",
      "[2, 2, 2, 3]\n"
     ]
    }
   ],
   "source": [
    "def removeElement(nums, val):\n",
    "    slow = 0\n",
    "    for fast in range(len(nums)):\n",
    "        if nums[fast] != val:\n",
    "            nums[slow] = nums[fast]\n",
    "            slow += 1\n",
    "    return slow\n",
    "\n",
    "nums = [3, 2, 2, 3]\n",
    "val = 3\n",
    "k = removeElement(nums, val)\n",
    "print(k)  \n",
    "print(nums)  "
   ]
  },
  {
   "attachments": {},
   "cell_type": "markdown",
   "metadata": {},
   "source": [
    "\n",
    "**Q3.** Given a sorted array of distinct integers and a target value, return the index if the target is found. If not, return the index where it would be if it were inserted in order.\n",
    "\n",
    "You must write an algorithm with O(log n) runtime complexity.\n",
    "\n",
    "**Example 1:**\n",
    "Input: nums = [1,3,5,6], target = 5\n",
    "\n",
    "Output: 2\n"
   ]
  },
  {
   "attachments": {},
   "cell_type": "markdown",
   "metadata": {},
   "source": [
    "`Approach`: \n",
    "\n",
    "1. Initialize two pointers, left and right, pointing to the start and end of the array respectively.\n",
    "2. While left is less than or equal to right, do the following:\n",
    "- a. Calculate the middle index as mid using the formula mid = left + (right - left) / 2.\n",
    "- b. If the element at the mid index is equal to the target, return mid.\n",
    "- c. If the element at the mid index is greater than the target, update right to mid - 1.\n",
    "- d. If the element at the mid index is less than the target, update left to mid + 1.\n",
    "3. If the target is not found, return the value of left as the index where the target would be inserted."
   ]
  },
  {
   "attachments": {},
   "cell_type": "markdown",
   "metadata": {},
   "source": [
    "**Time Complexity**: `O(log n)` -->   it uses a binary search approach. In each iteration of the while loop, the search space is effectively halved.\n",
    "\n",
    "**Space Complexity**: `O(1)` -->  it uses a constant amount of extra space to store the variables `left`, `right`, and `mid`."
   ]
  },
  {
   "cell_type": "code",
   "execution_count": 4,
   "metadata": {},
   "outputs": [
    {
     "name": "stdout",
     "output_type": "stream",
     "text": [
      "2\n"
     ]
    }
   ],
   "source": [
    "def searchInsert(nums, target):\n",
    "    left, right = 0, len(nums) - 1\n",
    "\n",
    "    while left <= right:\n",
    "        mid = left + (right - left) // 2\n",
    "\n",
    "        if nums[mid] == target:\n",
    "            return mid\n",
    "        elif nums[mid] < target:\n",
    "            left = mid + 1\n",
    "        else:\n",
    "            right = mid - 1\n",
    "\n",
    "    return left\n",
    "nums = [1, 3, 5, 6]\n",
    "target = 5\n",
    "index = searchInsert(nums, target)\n",
    "print(index)"
   ]
  },
  {
   "attachments": {},
   "cell_type": "markdown",
   "metadata": {},
   "source": [
    "**Q4.** You are given a large integer represented as an integer array digits, where each digits[i] is the ith digit of the integer. The digits are ordered from most significant to least significant in left-to-right order. The large integer does not contain any leading 0's.\n",
    "\n",
    "Increment the large integer by one and return the resulting array of digits.\n",
    "\n",
    "**Example 1:**\n",
    "Input: digits = [1,2,3]\n",
    "Output: [1,2,4]\n",
    "\n",
    "**Explanation:** The array represents the integer 123.\n",
    "\n",
    "Incrementing by one gives 123 + 1 = 124.\n",
    "Thus, the result should be [1,2,4].\n",
    "\n"
   ]
  },
  {
   "attachments": {},
   "cell_type": "markdown",
   "metadata": {},
   "source": [
    "`Approach`: \n",
    "1. Initialize a carry variable as 1 to account for the increment.\n",
    "2. Iterate through the digits array from right to left:\n",
    "- a. Add the carry to the current digit.\n",
    "- b. Calculate the new digit by taking the modulus of the sum with 10.\n",
    "- c. Update the carry by dividing the sum by 10 (integer division).\n",
    "- d. Update the current digit in the array with the new digit.\n",
    "- e. If the carry becomes 0, we can stop the iteration as there will be no further increment required.\n",
    "3. If the carry is still greater than 0 after the iteration, it means we have a new leading digit. Insert the carry at the beginning of the array.\n",
    "4. Return the updated digits array."
   ]
  },
  {
   "attachments": {},
   "cell_type": "markdown",
   "metadata": {},
   "source": [
    "**Time Complexity**: `O(n)` --> We Will iterate the array (len of n) only once.  \n",
    "\n",
    "**Space Complexity**: `O(1)` --> It uses a constant amount of extra space."
   ]
  },
  {
   "cell_type": "code",
   "execution_count": 6,
   "metadata": {},
   "outputs": [
    {
     "name": "stdout",
     "output_type": "stream",
     "text": [
      "[1, 2, 4]\n"
     ]
    }
   ],
   "source": [
    "def plusOne(digits):\n",
    "    carry = 1\n",
    "    for i in range(len(digits) - 1, -1, -1):\n",
    "        digits[i] += carry\n",
    "        carry = digits[i] // 10\n",
    "        digits[i] %= 10\n",
    "        if carry == 0:\n",
    "            break\n",
    "    if carry > 0:\n",
    "        digits.insert(0, carry)\n",
    "    return digits\n",
    "digits = [1, 2, 3]\n",
    "result = plusOne(digits)\n",
    "print(result)"
   ]
  },
  {
   "attachments": {},
   "cell_type": "markdown",
   "metadata": {},
   "source": [
    "**Q5.** You are given two integer arrays nums1 and nums2, sorted in non-decreasing order, and two integers m and n, representing the number of elements in nums1 and nums2 respectively.\n",
    "\n",
    "Merge nums1 and nums2 into a single array sorted in non-decreasing order.\n",
    "\n",
    "The final sorted array should not be returned by the function, but instead be stored inside the array nums1. To accommodate this, nums1 has a length of m + n, where the first m elements denote the elements that should be merged, and the last n elements are set to 0 and should be ignored. nums2 has a length of n.\n",
    "\n",
    "**Example 1:**\n",
    "Input: nums1 = [1,2,3,0,0,0], m = 3, nums2 = [2,5,6], n = 3\n",
    "Output: [1,2,2,3,5,6]\n",
    "\n",
    "**Explanation:** The arrays we are merging are [1,2,3] and [2,5,6].\n",
    "The result of the merge is [1,2,2,3,5,6] with the underlined elements coming from nums1.\n"
   ]
  },
  {
   "attachments": {},
   "cell_type": "markdown",
   "metadata": {},
   "source": [
    "`Approach`:  we can use a two-pointer approach.\n",
    "1. Initialize three pointers:\n",
    "- `p1` pointing to the last non-zero element in nums1 (i.e., index m - 1),\n",
    "- `p2` pointing to the last element in nums2 (i.e., index n - 1),\n",
    "- `p` pointing to the last position in nums1 (i.e., index m + n - 1).\n",
    "2. While` p1` and `p2` are within the valid range (greater than or equal to 0), do the following:\n",
    "- a. Compare the elements at `nums1[p1]` and `nums2[p2]`.\n",
    "- b. If `nums1[p1]` is greater than or equal to `nums2[p2]`, set `nums1[p]` to `nums1[p1]`, and decrement both `p1 `and `p`.\n",
    "- c. Otherwise, set `nums1[p]` to `nums2[p2]`, and decrement both `p2 `and` p`.\n",
    "3. If there are any remaining elements in nums2 after the above loop, copy them to the beginning of nums1.\n",
    "4. Return the modified nums1 array.\n"
   ]
  },
  {
   "attachments": {},
   "cell_type": "markdown",
   "metadata": {},
   "source": [
    "**Time Complexity**: `O(m+n)` --> Where m and n are the lengths of nums1 and nums2 respectively.  \n",
    "\n",
    "**Space Complexity**: `O(1)` --> It uses a constant amount of extra space"
   ]
  },
  {
   "cell_type": "code",
   "execution_count": 7,
   "metadata": {},
   "outputs": [
    {
     "name": "stdout",
     "output_type": "stream",
     "text": [
      "[1, 2, 2, 3, 5, 6]\n"
     ]
    }
   ],
   "source": [
    "def merge(nums1, m, nums2, n):\n",
    "    p1 = m - 1\n",
    "    p2 = n - 1\n",
    "    p = m + n - 1\n",
    "\n",
    "    while p1 >= 0 and p2 >= 0:\n",
    "        if nums1[p1] >= nums2[p2]:\n",
    "            nums1[p] = nums1[p1]\n",
    "            p1 -= 1\n",
    "        else:\n",
    "            nums1[p] = nums2[p2]\n",
    "            p2 -= 1\n",
    "        p -= 1\n",
    "\n",
    "    nums1[:p2 + 1] = nums2[:p2 + 1]\n",
    "\n",
    "    return nums1\n",
    "nums1 = [1, 2, 3, 0, 0, 0]\n",
    "m = 3\n",
    "nums2 = [2, 5, 6]\n",
    "n = 3\n",
    "\n",
    "result = merge(nums1, m, nums2, n)\n",
    "print(result)\n",
    "\n"
   ]
  },
  {
   "attachments": {},
   "cell_type": "markdown",
   "metadata": {},
   "source": [
    "**Q6.** Given an integer array nums, return true if any value appears at least twice in the array, and return false if every element is distinct.\n",
    "\n",
    "**Example 1:**\n",
    "Input: nums = [1,2,3,1]\n",
    "\n",
    "Output: true"
   ]
  },
  {
   "attachments": {},
   "cell_type": "markdown",
   "metadata": {},
   "source": [
    "`Approach`:\n",
    "1. Initialize an empty hash set.\n",
    "2. Iterate through each element in the nums array.\n",
    "- a. If the element is already in the hash set, return True as a duplicate value is found.\n",
    "- b. Otherwise, add the element to the hash set.\n",
    "3. If the loop completes without finding any duplicates, return False as all elements in the array are distinct."
   ]
  },
  {
   "attachments": {},
   "cell_type": "markdown",
   "metadata": {},
   "source": [
    "**Time Complexity**: `O(n)` --> We Will iterate the array (len of n) only once.  \n",
    "\n",
    "**Space Complexity**: `O(n)` --> Need to store all the elements of the array into the hashset."
   ]
  },
  {
   "cell_type": "code",
   "execution_count": 8,
   "metadata": {},
   "outputs": [
    {
     "name": "stdout",
     "output_type": "stream",
     "text": [
      "True\n"
     ]
    }
   ],
   "source": [
    "def containsDuplicate(nums):\n",
    "    seen = set()\n",
    "    for num in nums:\n",
    "        if num in seen:\n",
    "            return True\n",
    "        seen.add(num)\n",
    "    return False\n",
    "nums = [1, 2, 3, 1]\n",
    "result = containsDuplicate(nums)\n",
    "print(result)"
   ]
  },
  {
   "attachments": {},
   "cell_type": "markdown",
   "metadata": {},
   "source": [
    "**Q7.** Given an integer array nums, move all 0's to the end of it while maintaining the relative order of the nonzero elements.\n",
    "\n",
    "Note that you must do this in-place without making a copy of the array.\n",
    "\n",
    "**Example 1:**\n",
    "Input: nums = [0,1,0,3,12]\n",
    "Output: [1,3,12,0,0]\n",
    "\n"
   ]
  },
  {
   "attachments": {},
   "cell_type": "markdown",
   "metadata": {},
   "source": [
    "`Approach`:  We can use a two-pointer approach.\n",
    "1. Initialize two pointers, `left` and `right`, pointing to the start of the array.\n",
    "2. While the `right `pointer is within the valid range (less than the length of the array), do the following:\n",
    "- a. If the element at the `right` pointer is non-zero, swap it with the element at the `left` pointer.\n",
    "- b. Increment both `left`and `right` pointers.\n",
    "3. After the loop completes, all non-zero elements will be shifted to the left side of the array, and the remaining elements towards the end of the array will be zeros.\n",
    "4. Fill the remaining elements from the `left `pointer to the end of the array with zeros.\n",
    "5. The array will now have all the zeros at the end while maintaining the relative order of the nonzero elements.\n"
   ]
  },
  {
   "attachments": {},
   "cell_type": "markdown",
   "metadata": {},
   "source": [
    "**Time Complexity**: `O(n)` --> We Will iterate the array (len of n) only once.  \n",
    "\n",
    "**Space Complexity**: `O(1)` -->  it uses a constant amount of extra space."
   ]
  },
  {
   "cell_type": "code",
   "execution_count": 9,
   "metadata": {},
   "outputs": [
    {
     "name": "stdout",
     "output_type": "stream",
     "text": [
      "[1, 3, 12, 0, 0]\n"
     ]
    }
   ],
   "source": [
    "def moveZeroes(nums):\n",
    "    left = 0\n",
    "    for right in range(len(nums)):\n",
    "        if nums[right] != 0:\n",
    "            nums[left], nums[right] = nums[right], nums[left]\n",
    "            left += 1\n",
    "    nums[left:] = [0] * (len(nums) - left)\n",
    "nums = [0, 1, 0, 3, 12]\n",
    "moveZeroes(nums)\n",
    "print(nums)"
   ]
  },
  {
   "attachments": {},
   "cell_type": "markdown",
   "metadata": {},
   "source": [
    " **Q8.** You have a set of integers s, which originally contains all the numbers from 1 to n. Unfortunately, due to some error, one of the numbers in s got duplicated to another number in the set, which results in repetition of one number and loss of another number.\n",
    "\n",
    "You are given an integer array nums representing the data status of this set after the error.\n",
    "\n",
    "Find the number that occurs twice and the number that is missing and return them in the form of an array.\n",
    "\n",
    "**Example 1:**\n",
    "Input: nums = [1,2,2,4]\n",
    "Output: [2,3]\n",
    "\n"
   ]
  },
  {
   "attachments": {},
   "cell_type": "markdown",
   "metadata": {},
   "source": [
    "`Approach`:\n",
    "1. Initialize an empty set called `numSet`.\n",
    "2. Initialize two variables, `duplicate` and `missing`, to 0.\n",
    "3. Iterate through each element in the nums array:\n",
    "- a. If the element is already in the `numSet`, it is the duplicate number.\n",
    "- b. Otherwise, add the element to the `numSet`.\n",
    "4. Iterate through the numbers from 1 to the length of the nums array:\n",
    "- a. If the current number is not in the `numSet`, it is the missing number.\n",
    "5. Return the duplicate and missing numbers as an array."
   ]
  },
  {
   "attachments": {},
   "cell_type": "markdown",
   "metadata": {},
   "source": [
    "**Time Complexity**: `O(n)` --> We Will iterate the array (len of n) only once.  \n",
    "\n",
    "**Space Complexity**: `O(n)` --> Need to store all the elements of the array into the numset."
   ]
  },
  {
   "cell_type": "code",
   "execution_count": 10,
   "metadata": {},
   "outputs": [
    {
     "name": "stdout",
     "output_type": "stream",
     "text": [
      "[2, 3]\n"
     ]
    }
   ],
   "source": [
    "def findErrorNums(nums):\n",
    "    numSet = set()\n",
    "    duplicate = 0\n",
    "    missing = 0\n",
    "\n",
    "    for num in nums:\n",
    "        if num in numSet:\n",
    "            duplicate = num\n",
    "        numSet.add(num)\n",
    "\n",
    "    for i in range(1, len(nums) + 1):\n",
    "        if i not in numSet:\n",
    "            missing = i\n",
    "            break\n",
    "\n",
    "    return [duplicate, missing]\n",
    "nums = [1, 2, 2, 4]\n",
    "result = findErrorNums(nums)\n",
    "print(result)"
   ]
  }
 ],
 "metadata": {
  "kernelspec": {
   "display_name": "base",
   "language": "python",
   "name": "python3"
  },
  "language_info": {
   "codemirror_mode": {
    "name": "ipython",
    "version": 3
   },
   "file_extension": ".py",
   "mimetype": "text/x-python",
   "name": "python",
   "nbconvert_exporter": "python",
   "pygments_lexer": "ipython3",
   "version": "3.10.9"
  },
  "orig_nbformat": 4
 },
 "nbformat": 4,
 "nbformat_minor": 2
}
