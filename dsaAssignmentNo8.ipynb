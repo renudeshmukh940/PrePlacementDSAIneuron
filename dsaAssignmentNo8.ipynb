{
 "cells": [
  {
   "attachments": {},
   "cell_type": "markdown",
   "metadata": {},
   "source": [
    "# DSA Assignment 8 Solution"
   ]
  },
  {
   "attachments": {},
   "cell_type": "markdown",
   "metadata": {},
   "source": [
    "**Question 1**\n",
    "\n",
    "Given two strings s1 and s2, return *the lowest **ASCII** sum of deleted characters to make two strings equal*.\n",
    "\n",
    "**Example 1:**\n",
    "\n",
    "**Input:** s1 = \"sea\", s2 = \"eat\"\n",
    "\n",
    "**Output:** 231\n",
    "\n",
    "**Explanation:** Deleting \"s\" from \"sea\" adds the ASCII value of \"s\" (115) to the sum.\n",
    "\n",
    "Deleting \"t\" from \"eat\" adds 116 to the sum.\n",
    "\n",
    "At the end, both strings are equal, and 115 + 116 = 231 is the minimum sum possible to achieve this.\n",
    "\n"
   ]
  },
  {
   "attachments": {},
   "cell_type": "markdown",
   "metadata": {},
   "source": [
    "`Approach`:\n",
    "1. Initialize a 2D array, dp, with dimensions (len(s1)+1) x (len(s2)+1). This array will store the minimum ASCII sum for each substring of s1 and s2.\n",
    "2. Initialize the first row and the first column of dp as follows:\n",
    "- For `dp[i][0]`, where i represents the index of s1, set `dp[i][0]` to the cumulative sum of ASCII values of characters in s1 from index 0 to i.\n",
    "- For `dp[0][j]`, where j represents the index of s2, set `dp[0][j]` to the cumulative sum of ASCII values of characters in s2 from index 0 to j.\n",
    "3. Iterate over the remaining cells of dp starting from dp[1][1]:\n",
    "- If the current characters `s1[i-1]` and `s2[j-1]` are equal, set `dp[i][j] `to `dp[i-1][j-1]`. This means no characters need to be deleted.\n",
    "- Otherwise, set `dp[i][j]` to the minimum of the following:\n",
    " - `dp[i-1][j]` + `ord(s1[i-1])`, which represents deleting the current character from s1.\n",
    " - `dp[i][j-1]` + `ord(s2[j-1])`, which represents deleting the current character from s2.\n",
    "4. Finally, return dp[len(s1)][len(s2)], which represents the minimum ASCII sum of deleted characters to make s1 and s2 equal."
   ]
  },
  {
   "attachments": {},
   "cell_type": "markdown",
   "metadata": {},
   "source": [
    "**Time complexity**: `O(m*n)`\n",
    "\n",
    "**Space Complexity**: `O(m*n)`"
   ]
  },
  {
   "cell_type": "code",
   "execution_count": 1,
   "metadata": {},
   "outputs": [
    {
     "name": "stdout",
     "output_type": "stream",
     "text": [
      "231\n"
     ]
    }
   ],
   "source": [
    "def minimumDeleteSum(s1, s2):\n",
    "    m, n = len(s1), len(s2)\n",
    "    dp = [[0] * (n+1) for _ in range(m+1)]\n",
    "\n",
    "    for i in range(1, m+1):\n",
    "        dp[i][0] = dp[i-1][0] + ord(s1[i-1])\n",
    "\n",
    "    for j in range(1, n+1):\n",
    "        dp[0][j] = dp[0][j-1] + ord(s2[j-1])\n",
    "\n",
    "    for i in range(1, m+1):\n",
    "        for j in range(1, n+1):\n",
    "            if s1[i-1] == s2[j-1]:\n",
    "                dp[i][j] = dp[i-1][j-1]\n",
    "            else:\n",
    "                dp[i][j] = min(dp[i-1][j] + ord(s1[i-1]), dp[i][j-1] + ord(s2[j-1]))\n",
    "\n",
    "    return dp[m][n]\n",
    "s1 = \"sea\"\n",
    "s2 = \"eat\"\n",
    "result = minimumDeleteSum(s1, s2)\n",
    "print(result)  \n",
    "\n"
   ]
  },
  {
   "attachments": {},
   "cell_type": "markdown",
   "metadata": {},
   "source": [
    "**Question 2**\n",
    "\n",
    "Given a string s containing only three types of characters: '(', ')' and '*', return true *if* s *is **valid***.\n",
    "\n",
    "The following rules define a **valid** string:\n",
    "\n",
    "- Any left parenthesis '(' must have a corresponding right parenthesis ')'.\n",
    "- Any right parenthesis ')' must have a corresponding left parenthesis '('.\n",
    "- Left parenthesis '(' must go before the corresponding right parenthesis ')'.\n",
    "- '*' could be treated as a single right parenthesis ')' or a single left parenthesis '(' or an empty string \"\".\n",
    "\n",
    "**Example 1:**\n",
    "\n",
    "**Input:** s = \"()\"\n",
    "\n",
    "**Output:**\n",
    "\n",
    "true\n"
   ]
  },
  {
   "attachments": {},
   "cell_type": "markdown",
   "metadata": {},
   "source": [
    "`Approach`:\n",
    "1. Initialize two counters: left and star to keep track of the number of open left parentheses and the number of asterisks encountered, respectively. Set both counters to 0.\n",
    "2. Iterate through each character c in the string s:\n",
    "- If c is '(':\n",
    "  - Increment the left counter.\n",
    "- If c is ')':\n",
    " - If the left counter is greater than 0, decrement the left counter to match the encountered right parenthesis.\n",
    " - Otherwise, if the star counter is greater than 0, decrement the star counter to treat the '*' as a right parenthesis.\n",
    " - If both left and star counters are 0, return False as there is no corresponding left parenthesis for the encountered right parenthesis.\n",
    "- If c is '*':\n",
    " - Increment the star counter.\n",
    "3. After iterating through all the characters in s, we have two cases to consider:\n",
    "- If the left counter is 0, it means all the left parentheses have corresponding right parentheses, and the remaining '*' can be treated as empty strings. Return True.\n",
    "- If the left counter is greater than 0, we have unmatched left parentheses. In this case, we need to check if there are enough '*' to match the remaining left parentheses. If left <= star, we can treat the unmatched left parentheses as empty strings by decrementing the left and star counters accordingly. Return True in this case.\n",
    "4. If none of the above conditions are met, it means there are unmatched left parentheses and insufficient '*' to match them. Return False."
   ]
  },
  {
   "attachments": {},
   "cell_type": "markdown",
   "metadata": {},
   "source": [
    "**Time Complexity**: `O(n)`\n",
    "\n",
    "**Space Complexity**: `O(1)`"
   ]
  },
  {
   "cell_type": "code",
   "execution_count": 2,
   "metadata": {},
   "outputs": [
    {
     "name": "stdout",
     "output_type": "stream",
     "text": [
      "True\n"
     ]
    }
   ],
   "source": [
    "def isValid(s):\n",
    "    left = star = 0\n",
    "\n",
    "    for c in s:\n",
    "        if c == '(':\n",
    "            left += 1\n",
    "        elif c == ')':\n",
    "            if left > 0:\n",
    "                left -= 1\n",
    "            elif star > 0:\n",
    "                star -= 1\n",
    "            else:\n",
    "                return False\n",
    "        elif c == '*':\n",
    "            star += 1\n",
    "\n",
    "    return left == 0 or (left <= star)\n",
    "\n",
    "\n",
    "s = \"()\"\n",
    "result = isValid(s)\n",
    "print(result)  \n"
   ]
  },
  {
   "attachments": {},
   "cell_type": "markdown",
   "metadata": {},
   "source": [
    "**Question 3**\n",
    "\n",
    "Given two strings word1 and word2, return *the minimum number of **steps** required to make* word1 *and* word2 *the same*.\n",
    "\n",
    "In one **step**, you can delete exactly one character in either string.\n",
    "\n",
    "**Example 1:**\n",
    "\n",
    "**Input:** word1 = \"sea\", word2 = \"eat\"\n",
    "\n",
    "**Output:** 2\n",
    "\n",
    "**Explanation:** You need one step to make \"sea\" to \"ea\" and another step to make \"eat\" to \"ea\".\n",
    "\n"
   ]
  },
  {
   "attachments": {},
   "cell_type": "markdown",
   "metadata": {},
   "source": [
    "`Approach`:\n",
    "1. Create a 2D array dp of size (m+1) x (n+1), where m and n are the lengths of word1 and word2, respectively.\n",
    "2. Initialize the base cases:\n",
    "- `dp[0][j] = j` for all j from 0 to n, indicating the number of steps required to make an empty string equal to word2 of length j.\n",
    "- `dp[i][0] = i `for all i from 0 to m, indicating the number of steps required to make word1 of length i equal to an empty string.\n",
    "3. Iterate through the substrings of word1 and word2:\n",
    "- For each i from 1 to m (inclusive) and each j from 1 to n (inclusive), do the following:\n",
    " - If `word1[i-1]` is equal to `word2[j-1]`, then `dp[i][j] = dp[i-1][j-1]` because no deletion is required for the current characters.\n",
    " - Otherwise, take the minimum of the following two cases:\n",
    "  - Delete the current character from word1: `dp[i][j] = dp[i-1][j] + 1`\n",
    "  - Delete the current character from word2: `dp[i][j] = dp[i][j-1] + 1`\n",
    "4. The minimum number of steps required to make word1 and word2 the same is given by `dp[m][n]`."
   ]
  },
  {
   "attachments": {},
   "cell_type": "markdown",
   "metadata": {},
   "source": [
    "**Time Complexity**: `O(m*n)`\n",
    "\n",
    "**Space Complexity**: `O(m*n)`"
   ]
  },
  {
   "cell_type": "code",
   "execution_count": 11,
   "metadata": {},
   "outputs": [
    {
     "name": "stdout",
     "output_type": "stream",
     "text": [
      "2\n"
     ]
    }
   ],
   "source": [
    "def minDistance(word1, word2):\n",
    "    m, n = len(word1), len(word2)\n",
    "    \n",
    "    dp = [[0] * (n + 1) for _ in range(m + 1)]\n",
    "    \n",
    "    # Base cases\n",
    "    for i in range(m + 1):\n",
    "        dp[i][0] = i\n",
    "    for j in range(n + 1):\n",
    "        dp[0][j] = j\n",
    "    \n",
    "    # Compute dp values\n",
    "    for i in range(1, m + 1):\n",
    "        for j in range(1, n + 1):\n",
    "            if word1[i - 1] == word2[j - 1]:\n",
    "                dp[i][j] = dp[i - 1][j - 1]\n",
    "            else:\n",
    "                dp[i][j] = min(dp[i - 1][j], dp[i][j - 1]) + 1\n",
    "    \n",
    "    return dp[m][n]\n",
    "word1 = \"sea\"\n",
    "word2 = \"eat\"\n",
    "result = minDistance(word1, word2)\n",
    "print(result)  "
   ]
  },
  {
   "attachments": {},
   "cell_type": "markdown",
   "metadata": {},
   "source": [
    "**Question 4**\n",
    "\n",
    "You need to construct a binary tree from a string consisting of parenthesis and integers.\n",
    "\n",
    "The whole input represents a binary tree. It contains an integer followed by zero, one or two pairs of parenthesis. The integer represents the root's value and a pair of parenthesis contains a child binary tree with the same structure.\n",
    "You always start to construct the **left** child node of the parent first if it exists.\n",
    "\n",
    "**Input:** s = \"4(2(3)(1))(6(5))\"\n",
    "\n",
    "**Output:** [4,2,6,3,1,5]"
   ]
  },
  {
   "attachments": {},
   "cell_type": "markdown",
   "metadata": {},
   "source": [
    "`Approach`:\n",
    "1. If the input string s is empty, return None to indicate an empty tree.\n",
    "2. Find the index of the first opening parenthesis in s. The value before this index represents the root node's value.\n",
    "3. Create a new TreeNode with the root value and initialize empty left and right child nodes.\n",
    "4. Find the index of the matching closing parenthesis for the first opening parenthesis found in step 2. This closing parenthesis will enclose the left subtree if it exists.\n",
    "5. Recursively call the function with the substring between the first opening parenthesis and its matching closing parenthesis (excluding both parentheses). This will construct the left subtree of the current node. Set the returned tree as the left child of the current node.\n",
    "6. Repeat steps 2-5 for the remaining substring of s after the matching closing parenthesis found in step 4. This will construct the right subtree of the current node. Set the returned tree as the right child of the current node.\n",
    "7. Return the constructed tree."
   ]
  },
  {
   "attachments": {},
   "cell_type": "markdown",
   "metadata": {},
   "source": [
    "**Time Complexity**: `O(n)`\n",
    "\n",
    "**Space Complexity**: `O(n)`"
   ]
  },
  {
   "cell_type": "code",
   "execution_count": 14,
   "metadata": {},
   "outputs": [
    {
     "name": "stdout",
     "output_type": "stream",
     "text": [
      "3 2 1 4 5 6 "
     ]
    }
   ],
   "source": [
    "class TreeNode:\n",
    "    def __init__(self, val=0, left=None, right=None):\n",
    "        self.val = val\n",
    "        self.left = left\n",
    "        self.right = right\n",
    "\n",
    "def str2tree(s):\n",
    "    if not s:\n",
    "        return None\n",
    "\n",
    "    # Find the index of the first opening parenthesis\n",
    "    i = s.find('(')\n",
    "\n",
    "    if i == -1:\n",
    "        # No opening parenthesis found, so the entire string represents a single node\n",
    "        return TreeNode(int(s))\n",
    "\n",
    "    # Create the root node with the value before the opening parenthesis\n",
    "    root_val = int(s[:i])\n",
    "    root = TreeNode(root_val)\n",
    "\n",
    "    # Find the index of the matching closing parenthesis for the first opening parenthesis\n",
    "    j = find_matching_parenthesis(s, i)\n",
    "\n",
    "    # Construct the left subtree recursively\n",
    "    root.left = str2tree(s[i+1:j])\n",
    "\n",
    "    # Construct the right subtree recursively\n",
    "    root.right = str2tree(s[j+2:-1])\n",
    "\n",
    "    return root\n",
    "\n",
    "def find_matching_parenthesis(s, start):\n",
    "    count = 0\n",
    "    for i in range(start, len(s)):\n",
    "        if s[i] == '(':\n",
    "            count += 1\n",
    "        elif s[i] == ')':\n",
    "            count -= 1\n",
    "            if count == 0:\n",
    "                return i\n",
    "    return -1\n",
    "\n",
    "# Test the function with the provided example\n",
    "s = \"4(2(3)(1))(6(5))\"\n",
    "tree = str2tree(s)\n",
    "\n",
    "# Function to traverse and print the tree (in-order traversal)\n",
    "def print_tree(node):\n",
    "    if node:\n",
    "        print_tree(node.left)\n",
    "        print(node.val, end=\" \")\n",
    "        print_tree(node.right)\n",
    "\n",
    "print_tree(tree)  \n"
   ]
  },
  {
   "attachments": {},
   "cell_type": "markdown",
   "metadata": {},
   "source": [
    "**Question 5**\n",
    "\n",
    "Given an array of characters chars, compress it using the following algorithm:\n",
    "\n",
    "Begin with an empty string s. For each group of **consecutive repeating characters** in chars:\n",
    "\n",
    "- If the group's length is 1, append the character to s.\n",
    "- Otherwise, append the character followed by the group's length.\n",
    "\n",
    "The compressed string s **should not be returned separately**, but instead, be stored **in the input character array chars**. Note that group lengths that are 10 or longer will be split into multiple characters in chars.\n",
    "\n",
    "After you are done **modifying the input array,** return *the new length of the array*.\n",
    "\n",
    "You must write an algorithm that uses only constant extra space.\n",
    "\n",
    "**Example 1:**\n",
    "\n",
    "**Input:** chars = [\"a\",\"a\",\"b\",\"b\",\"c\",\"c\",\"c\"]\n",
    "\n",
    "**Output:** Return 6, and the first 6 characters of the input array should be: [\"a\",\"2\",\"b\",\"2\",\"c\",\"3\"]\n",
    "\n",
    "**Explanation:**\n",
    "\n",
    "The groups are \"aa\", \"bb\", and \"ccc\". This compresses to \"a2b2c3\".\n",
    "\n"
   ]
  },
  {
   "attachments": {},
   "cell_type": "markdown",
   "metadata": {},
   "source": [
    "`Approach`:\n",
    "1. Initialize two pointers, read and write, to track the current reading and writing positions in the array chars. Set both pointers to 0.\n",
    "2. Initialize a variable count to 1 to keep track of the consecutive repeating characters.\n",
    "3. Iterate while the read pointer is less than the length of chars:\n",
    "- Check if the character at read is equal to the character at read + 1. If they are the same, increment the count variable.\n",
    "- If the characters are different or we have reached the end of the array, we need to write the compressed representation to chars.\n",
    "- Write the character at read to chars at the position write.\n",
    "- If the count is greater than 1 (indicating consecutive repeating characters), convert the count to a string and write each digit of the count to chars starting from the position write + 1.\n",
    "- Update the write pointer accordingly.\n",
    "- Reset the count to 1.\n",
    "4. Return the write pointer, which represents the new length of the compressed array chars."
   ]
  },
  {
   "attachments": {},
   "cell_type": "markdown",
   "metadata": {},
   "source": [
    "**Time Complexity**: `O(n)`\n",
    "\n",
    "**Space Complexity**: `O(1)`"
   ]
  },
  {
   "cell_type": "code",
   "execution_count": 6,
   "metadata": {},
   "outputs": [
    {
     "name": "stdout",
     "output_type": "stream",
     "text": [
      "6\n",
      "['a', '2', 'b', '2', 'c', '3']\n"
     ]
    }
   ],
   "source": [
    "def compress(chars):\n",
    "    read = 0\n",
    "    write = 0\n",
    "    count = 1\n",
    "\n",
    "    while read < len(chars):\n",
    "        if read + 1 == len(chars) or chars[read] != chars[read + 1]:\n",
    "            chars[write] = chars[read]\n",
    "            write += 1\n",
    "            if count > 1:\n",
    "                for digit in str(count):\n",
    "                    chars[write] = digit\n",
    "                    write += 1\n",
    "            count = 1\n",
    "        else:\n",
    "            count += 1\n",
    "\n",
    "        read += 1\n",
    "\n",
    "    return write\n",
    "\n",
    "\n",
    "# Test the function with the provided example:\n",
    "chars = [\"a\", \"a\", \"b\", \"b\", \"c\", \"c\", \"c\"]\n",
    "new_length = compress(chars)\n",
    "print(new_length)  # Output: 6\n",
    "print(chars[:new_length])  # Output: ['a', '2', 'b', '2', 'c', '3']\n"
   ]
  },
  {
   "attachments": {},
   "cell_type": "markdown",
   "metadata": {},
   "source": [
    "**Question 6**\n",
    "\n",
    "Given two strings s and p, return *an array of all the start indices of* p*'s anagrams in* s. You may return the answer in **any order**.\n",
    "\n",
    "An **Anagram** is a word or phrase formed by rearranging the letters of a different word or phrase, typically using all the original letters exactly once.\n",
    "\n",
    "**Example 1:**\n",
    "\n",
    "**Input:** s = \"cbaebabacd\", p = \"abc\"\n",
    "\n",
    "**Output:** [0,6]\n",
    "\n",
    "**Explanation:**\n",
    "\n",
    "The substring with start index = 0 is \"cba\", which is an anagram of \"abc\".\n",
    "\n",
    "The substring with start index = 6 is \"bac\", which is an anagram of \"abc\".\n",
    "\n",
    "\n"
   ]
  },
  {
   "attachments": {},
   "cell_type": "markdown",
   "metadata": {},
   "source": [
    "`Approach`:\n",
    "1. Initialize an empty list result to store the start indices of anagrams.\n",
    "2. Create two frequency dictionaries, target and window, to store the frequency of characters in strings p and the current window of characters in string s, respectively.\n",
    "3. Initialize two pointers, left and right, both pointing to the start of s.\n",
    "4. Iterate over s using the right pointer:\n",
    "- Increment the frequency of `s[right] `in the window dictionary.\n",
    "- If the length of the current window is greater than or equal to the length of p:\n",
    " - If the frequency dictionaries target and window are equal, append the left pointer to the result list.\n",
    " - Decrement the frequency of `s[left]` in the window dictionary and move the left pointer to the right.\n",
    "- Move the right pointer to the right.\n",
    "5. Return the result list containing the start indices of anagrams of p in s."
   ]
  },
  {
   "attachments": {},
   "cell_type": "markdown",
   "metadata": {},
   "source": [
    "**Time Complexity**: `O(n)`\n",
    "\n",
    "**Space Complexity**: `O(1)`"
   ]
  },
  {
   "cell_type": "code",
   "execution_count": 12,
   "metadata": {},
   "outputs": [
    {
     "name": "stdout",
     "output_type": "stream",
     "text": [
      "[0, 6]\n"
     ]
    }
   ],
   "source": [
    "from collections import Counter\n",
    "\n",
    "def findAnagrams(s, p):\n",
    "    target = Counter(p)\n",
    "    window = Counter()\n",
    "    result = []\n",
    "    left = right = 0\n",
    "    \n",
    "    while right < len(s):\n",
    "        window[s[right]] += 1\n",
    "        if right - left + 1 >= len(p):\n",
    "            if window == target:\n",
    "                result.append(left)\n",
    "            window[s[left]] -= 1\n",
    "            if window[s[left]] == 0:\n",
    "                del window[s[left]]\n",
    "            left += 1\n",
    "        right += 1\n",
    "    \n",
    "    return result\n",
    "s = \"cbaebabacd\"\n",
    "p = \"abc\"\n",
    "result = findAnagrams(s, p)\n",
    "print(result)  \n"
   ]
  },
  {
   "attachments": {},
   "cell_type": "markdown",
   "metadata": {},
   "source": [
    "**Question 7**\n",
    "\n",
    "Given an encoded string, return its decoded string.\n",
    "\n",
    "The encoding rule is: k[encoded_string], where the encoded_string inside the square brackets is being repeated exactly k times. Note that k is guaranteed to be a positive integer.\n",
    "\n",
    "You may assume that the input string is always valid; there are no extra white spaces, square brackets are well-formed, etc. Furthermore, you may assume that the original data does not contain any digits and that digits are only for those repeat numbers, k. For example, there will not be input like 3a or 2[4].\n",
    "\n",
    "The test cases are generated so that the length of the output will never exceed 105.\n",
    "\n",
    "**Example 1:**\n",
    "\n",
    "**Input:** s = \"3[a]2[bc]\"\n",
    "\n",
    "**Output:** \"aaabcbc\"\n"
   ]
  },
  {
   "attachments": {},
   "cell_type": "markdown",
   "metadata": {},
   "source": [
    "`Approach`:\n",
    "1. Initialize an empty stack.\n",
    "2. Iterate through each character c in the input string s:\n",
    "- If c is not ']', push it onto the stack.\n",
    "- If c is ']', it indicates the end of an encoded string. We need to process the characters inside the square brackets.\n",
    "- Initialize an empty string encoded_string to store the characters inside the square brackets.\n",
    "- While the top of the stack is not '[', pop the characters from the stack and prepend them to encoded_string.\n",
    "- Pop the '[' character from the stack.\n",
    "- Reverse encoded_string and convert it to an integer k using int(encoded_string).\n",
    "- Pop the characters from the stack k times, concatenate them, and push the resulting string back onto the stack.\n",
    "3. After iterating through all the characters in s, the stack will contain the decoded string. Concatenate the elements in the stack from bottom to top to obtain the final decoded string."
   ]
  },
  {
   "attachments": {},
   "cell_type": "markdown",
   "metadata": {},
   "source": [
    "**Time Complexity**: `O(n)`\n",
    "\n",
    "**Space Complexity**: `O(n)`"
   ]
  },
  {
   "cell_type": "code",
   "execution_count": 4,
   "metadata": {},
   "outputs": [
    {
     "name": "stdout",
     "output_type": "stream",
     "text": [
      "aaabcbc\n"
     ]
    }
   ],
   "source": [
    "def decodeString(s):\n",
    "    stack = []\n",
    "\n",
    "    for c in s:\n",
    "        if c != ']':\n",
    "            stack.append(c)\n",
    "        else:\n",
    "            encoded_string = \"\"\n",
    "            while stack[-1] != '[':\n",
    "                encoded_string = stack.pop() + encoded_string\n",
    "\n",
    "            stack.pop()  # Pop '['\n",
    "\n",
    "            k = \"\"\n",
    "            while stack and stack[-1].isdigit():\n",
    "                k = stack.pop() + k\n",
    "\n",
    "            k = int(k)\n",
    "\n",
    "            decoded_string = k * encoded_string\n",
    "            stack.append(decoded_string)\n",
    "\n",
    "    return \"\".join(stack)\n",
    "\n",
    "\n",
    "s = \"3[a]2[bc]\"\n",
    "result = decodeString(s)\n",
    "print(result)  "
   ]
  },
  {
   "attachments": {},
   "cell_type": "markdown",
   "metadata": {},
   "source": [
    "**Question 8**\n",
    "\n",
    "Given two strings s and goal, return true *if you can swap two letters in* s *so the result is equal to* goal*, otherwise, return* false*.*\n",
    "\n",
    "Swapping letters is defined as taking two indices i and j (0-indexed) such that i != j and swapping the characters at s[i] and s[j].\n",
    "\n",
    "- For example, swapping at indices 0 and 2 in \"abcd\" results in \"cbad\".\n",
    "\n",
    "**Example 1:**\n",
    "\n",
    "**Input:** s = \"ab\", goal = \"ba\"\n",
    "\n",
    "**Output:** true\n",
    "\n",
    "**Explanation:** You can swap s[0] = 'a' and s[1] = 'b' to get \"ba\", which is equal to goal.\n",
    "\n"
   ]
  },
  {
   "attachments": {},
   "cell_type": "markdown",
   "metadata": {},
   "source": [
    "`Approach`:\n",
    "1. Initialize two lists, mismatch_indices and common_chars, to store the indices where the characters at corresponding positions in s and goal differ, and the characters that are common in both strings, respectively.\n",
    "2. Iterate through each index i in the range of the length of s:\n",
    "- If s[i] is not equal to goal[i], add i to mismatch_indices.\n",
    "- Otherwise, add s[i] to common_chars.\n",
    "3. If the length of mismatch_indices is:\n",
    "- 0: This means both s and goal are already equal. Return True since no swaps are needed.\n",
    "- 2: Check if the characters at the corresponding positions in s and goal can be swapped. If the characters at mismatch_indices[0] and mismatch_indices[1] are the same as common_chars[0] and common_chars[1] respectively, return True.\n",
    "- Otherwise, return False because more than two characters differ between s and goal, and it's not possible to make them equal by swapping."
   ]
  },
  {
   "attachments": {},
   "cell_type": "markdown",
   "metadata": {},
   "source": [
    "**Time Complexity**: `O(1)`\n",
    "\n",
    "**Space Complexity**: `O(1)`"
   ]
  },
  {
   "cell_type": "code",
   "execution_count": 3,
   "metadata": {},
   "outputs": [
    {
     "name": "stdout",
     "output_type": "stream",
     "text": [
      "True\n"
     ]
    }
   ],
   "source": [
    "def canBeEqual(s, goal):\n",
    "    mismatch_indices = []\n",
    "    common_chars = []\n",
    "\n",
    "    for i in range(len(s)):\n",
    "        if s[i] != goal[i]:\n",
    "            mismatch_indices.append(i)\n",
    "        else:\n",
    "            common_chars.append(s[i])\n",
    "\n",
    "    if len(mismatch_indices) == 0:\n",
    "        return True\n",
    "    elif len(mismatch_indices) == 2:\n",
    "        i, j = mismatch_indices\n",
    "        return s[i] == goal[j] and s[j] == goal[i]\n",
    "    else:\n",
    "        return False\n",
    "s = \"ab\"\n",
    "goal = \"ba\"\n",
    "result = canBeEqual(s, goal)\n",
    "print(result)  \n"
   ]
  }
 ],
 "metadata": {
  "kernelspec": {
   "display_name": "base",
   "language": "python",
   "name": "python3"
  },
  "language_info": {
   "codemirror_mode": {
    "name": "ipython",
    "version": 3
   },
   "file_extension": ".py",
   "mimetype": "text/x-python",
   "name": "python",
   "nbconvert_exporter": "python",
   "pygments_lexer": "ipython3",
   "version": "3.10.9"
  },
  "orig_nbformat": 4
 },
 "nbformat": 4,
 "nbformat_minor": 2
}
