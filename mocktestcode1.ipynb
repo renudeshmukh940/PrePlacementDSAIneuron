{
 "cells": [
  {
   "attachments": {},
   "cell_type": "markdown",
   "metadata": {},
   "source": [
    " **Q1**. Given a non-negative integer x, return the square root of x rounded down to the nearest integer. The returned integer should be non-negative as well. You must not use any built-in exponent function or operator. \n",
    "\n",
    " **Example 1**:\n",
    "Input: x = 4 Output: 2 Explanation: The square root of 4 is 2, so we return 2.\n",
    "**Example 2**:\n",
    "\n",
    "Input: x = 8 Output: 2 Explanation: The square root of 8 is 2.82842..., and since we round it down to the nearest integer, 2 is returned.\n"
   ]
  },
  {
   "cell_type": "code",
   "execution_count": 1,
   "metadata": {},
   "outputs": [
    {
     "name": "stdout",
     "output_type": "stream",
     "text": [
      "2\n",
      "2\n"
     ]
    }
   ],
   "source": [
    "def mySqrt(x):\n",
    "    if x < 2:\n",
    "        return x\n",
    "\n",
    "    left = 0\n",
    "    right = x // 2 + 1\n",
    "\n",
    "    while left <= right:\n",
    "        mid = (left + right) // 2\n",
    "        square = mid * mid\n",
    "\n",
    "        if square == x:\n",
    "            return mid\n",
    "        elif square < x:\n",
    "            left = mid + 1\n",
    "        else:\n",
    "            right = mid - 1\n",
    "\n",
    "    return right\n",
    "print(mySqrt(4))  \n",
    "print(mySqrt(8)) \n"
   ]
  }
 ],
 "metadata": {
  "kernelspec": {
   "display_name": "base",
   "language": "python",
   "name": "python3"
  },
  "language_info": {
   "codemirror_mode": {
    "name": "ipython",
    "version": 3
   },
   "file_extension": ".py",
   "mimetype": "text/x-python",
   "name": "python",
   "nbconvert_exporter": "python",
   "pygments_lexer": "ipython3",
   "version": "3.10.9"
  },
  "orig_nbformat": 4
 },
 "nbformat": 4,
 "nbformat_minor": 2
}
