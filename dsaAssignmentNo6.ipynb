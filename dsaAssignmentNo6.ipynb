{
 "cells": [
  {
   "attachments": {},
   "cell_type": "markdown",
   "metadata": {},
   "source": [
    "# DSA Assignment 6 Solution"
   ]
  },
  {
   "attachments": {},
   "cell_type": "markdown",
   "metadata": {},
   "source": [
    "**Question 1**\n",
    "\n",
    "A permutation perm of n + 1 integers of all the integers in the range [0, n] can be represented as a string s of length n where:\n",
    "\n",
    "- s[i] == 'I' if perm[i] < perm[i + 1], and\n",
    "- s[i] == 'D' if perm[i] > perm[i + 1].\n",
    "\n",
    "Given a string s, reconstruct the permutation perm and return it. If there are multiple valid permutations perm, return **any of them**.\n",
    "\n",
    "**Example 1:**\n",
    "\n",
    "**Input:** s = \"IDID\"\n",
    "\n",
    "**Output:**\n",
    "\n",
    "[0,4,1,3,2]\n",
    "\n"
   ]
  },
  {
   "attachments": {},
   "cell_type": "markdown",
   "metadata": {},
   "source": [
    "`Approach`:\n",
    "1. Initialize an empty list perm to store the reconstructed permutation.\n",
    "2. Initialize two variables, `low` and `high`, to keep track of the lowest and highest available numbers to be inserted in the permutation.\n",
    "- low starts at 0, and high starts at n, where n is the length of the string s.\n",
    "3. Iterate over each character ch in the string s:\n",
    "- If ch is 'I':\n",
    "  - Append the value of `low` to `perm`.\n",
    "  - Increment low by 1.\n",
    "- If ch is 'D':\n",
    "  - Append the value of `high` to `perm`.\n",
    "  - Decrement high by 1.\n",
    "4. After the loop ends, append either low or high to perm (they will have the same value at this point).\n",
    "5. Return the reconstructed permutation perm."
   ]
  },
  {
   "attachments": {},
   "cell_type": "markdown",
   "metadata": {},
   "source": [
    "**Time Complexity**: `O(n)`\n",
    "\n",
    "**Space Complexity**: `O(n)`"
   ]
  },
  {
   "cell_type": "code",
   "execution_count": 4,
   "metadata": {},
   "outputs": [
    {
     "name": "stdout",
     "output_type": "stream",
     "text": [
      "[0, 4, 1, 3, 2]\n"
     ]
    }
   ],
   "source": [
    "class Solution(object):\n",
    "    def diStringMatch(self, s):\n",
    "        n = len(s)\n",
    "        perm = []\n",
    "        low, high = 0, n\n",
    "\n",
    "        for ch in s:\n",
    "            if ch == 'I':\n",
    "                perm.append(low)\n",
    "                low += 1\n",
    "            elif ch == 'D':\n",
    "                perm.append(high)\n",
    "                high -= 1\n",
    "        \n",
    "        perm.append(low)\n",
    "\n",
    "        return perm\n",
    "s = \"IDID\"\n",
    "solution = Solution()\n",
    "print(solution.diStringMatch(s))\n",
    "\n"
   ]
  },
  {
   "attachments": {},
   "cell_type": "markdown",
   "metadata": {},
   "source": [
    "**Question 2**\n",
    "\n",
    "You are given an m x n integer matrix matrix with the following two properties:\n",
    "\n",
    "- Each row is sorted in non-decreasing order.\n",
    "- The first integer of each row is greater than the last integer of the previous row.\n",
    "\n",
    "Given an integer target, return true *if* target *is in* matrix *or* false *otherwise*.\n",
    "\n",
    "You must write a solution in O(log(m * n)) time complexity.\n",
    "\n",
    "**Example 1:**\n",
    "\n",
    "**Input:** matrix = [[1,3,5,7],[10,11,16,20],[23,30,34,60]], target = 3\n",
    "\n",
    "**Output:** true\n"
   ]
  },
  {
   "attachments": {},
   "cell_type": "markdown",
   "metadata": {},
   "source": [
    "`Approach`:\n",
    "1. Initialize the variables m and n as the number of rows and columns in the matrix, respectively.\n",
    "2. Initialize the variables `low` and `high` as the indices of the first and last elements in the flattened matrix, respectively. Set `low` to 0 and `high` to `m * n - 1`.\n",
    "3. While `low `is less than or equal to `high`:\n",
    "- Calculate the midpoint as `mid = (low + high) // 2`.\n",
    "- Map the index mid back to the corresponding row and column in the matrix as `row = mid // n` and col = mid % n.\n",
    "- If the element at `matrix[row][col]` is equal to the target, return True.\n",
    "- If the element at `matrix[row][col]` is greater than the target, set `high = mid - 1` to search in the lower half of the matrix.\n",
    "- If the element at `matrix[row][col]` is less than the target, set `low = mid + 1` to search in the upper half of the matrix.\n",
    "4. If the target is not found in the matrix during the binary search, return False."
   ]
  },
  {
   "attachments": {},
   "cell_type": "markdown",
   "metadata": {},
   "source": [
    "**Time Complexity**: `O(log(m*n))`\n",
    "\n",
    "**Space Complexity**: `O(1)`"
   ]
  },
  {
   "cell_type": "code",
   "execution_count": 5,
   "metadata": {},
   "outputs": [
    {
     "name": "stdout",
     "output_type": "stream",
     "text": [
      "True\n"
     ]
    }
   ],
   "source": [
    "class Solution(object):\n",
    "    def searchMatrix(self, matrix, target):\n",
    "        m, n = len(matrix), len(matrix[0])\n",
    "        low, high = 0, m * n - 1\n",
    "\n",
    "        while low <= high:\n",
    "            mid = (low + high) // 2\n",
    "            row = mid // n\n",
    "            col = mid % n\n",
    "\n",
    "            if matrix[row][col] == target:\n",
    "                return True\n",
    "            elif matrix[row][col] < target:\n",
    "                low = mid + 1\n",
    "            else:\n",
    "                high = mid - 1\n",
    "\n",
    "        return False\n",
    "matrix = [[1, 3, 5, 7], [10, 11, 16, 20], [23, 30, 34, 60]]\n",
    "target = 3\n",
    "solution = Solution()\n",
    "print(solution.searchMatrix(matrix, target))\n"
   ]
  },
  {
   "attachments": {},
   "cell_type": "markdown",
   "metadata": {},
   "source": [
    "**Question 3**\n",
    "\n",
    "Given an array of integers arr, return *true if and only if it is a valid mountain array*.\n",
    "\n",
    "Recall that arr is a mountain array if and only if:\n",
    "\n",
    "- arr.length >= 3\n",
    "- There exists some i with 0 < i < arr.length - 1 such that:\n",
    "    - arr[0] < arr[1] < ... < arr[i - 1] < arr[i]\n",
    "    - arr[i] > arr[i + 1] > ... > arr[arr.length - 1]\n",
    "\n",
    "**Example 1:**\n",
    "\n",
    "**Input:** arr = [2,1]\n",
    "\n",
    "**Output:**\n",
    "\n",
    "false\n"
   ]
  },
  {
   "attachments": {},
   "cell_type": "markdown",
   "metadata": {},
   "source": [
    "`Approach`:\n",
    "1. Initialize a variable n as the length of the input array arr.\n",
    "2. If n is less than 3, return `False` since a valid mountain array must have at least 3 elements.\n",
    "3. Initialize two pointers, `left` and` right`, as 0 and n-1, respectively.\n",
    "4. While `left < n-1` and `arr[left]` < `arr[left+1]`, increment left by 1 to find the peak of the mountain.\n",
    "5. While `right > 0` and a`rr[right]` < `arr[right-1]`, decrement right by 1 to find the end of the mountain.\n",
    "6. Check if left is equal to right. If it is, return True since the peak and the end of the mountain coincide, which is not allowed in a valid mountain array.\n",
    "7. If either left is equal to 0 or `right` is equal to n-1, return `False` since the peak or the end of the mountain is at the start or end of the array.\n",
    "8. Otherwise, return True since all the conditions for a valid mountain array are satisfied."
   ]
  },
  {
   "attachments": {},
   "cell_type": "markdown",
   "metadata": {},
   "source": [
    "**Time Complexity**: `O(n)`\n",
    "\n",
    "**Space Complexity**: `O(1)`"
   ]
  },
  {
   "cell_type": "code",
   "execution_count": 1,
   "metadata": {},
   "outputs": [
    {
     "name": "stdout",
     "output_type": "stream",
     "text": [
      "False\n"
     ]
    }
   ],
   "source": [
    "class Solution(object):\n",
    "    def validMountainArray(self, arr):\n",
    "        n = len(arr)\n",
    "        if n < 3:\n",
    "            return False\n",
    "        \n",
    "        peakIndex = 0\n",
    "        for i in range(1, n-1):\n",
    "            if arr[i] > arr[i-1] and arr[i] > arr[i+1]:\n",
    "                peakIndex = i\n",
    "                break\n",
    "        if peakIndex == 0 or peakIndex == n-1:\n",
    "            return False\n",
    "        \n",
    "        for i in range(peakIndex):\n",
    "            if arr[i] >= arr[i+1]:\n",
    "                return False\n",
    "        \n",
    "        for i in range(peakIndex, n-1):\n",
    "            if arr[i] <= arr[i+1]:\n",
    "                return False\n",
    "        \n",
    "        return True\n",
    "arr = [2, 1]\n",
    "solution = Solution()\n",
    "print(solution.validMountainArray(arr))  \n"
   ]
  },
  {
   "attachments": {},
   "cell_type": "markdown",
   "metadata": {},
   "source": [
    "**Question 4**\n",
    "\n",
    "Given a binary array nums, return *the maximum length of a contiguous subarray with an equal number of* 0 *and* 1.\n",
    "\n",
    "**Example 1:**\n",
    "\n",
    "**Input:** nums = [0,1]\n",
    "\n",
    "**Output:** 2\n",
    "\n",
    "**Explanation:**\n",
    "\n",
    "[0, 1] is the longest contiguous subarray with an equal number of 0 and 1.\n",
    "\n"
   ]
  },
  {
   "attachments": {},
   "cell_type": "markdown",
   "metadata": {},
   "source": [
    "`Approach`:\n",
    "1. Initialize a variable `max_length` as 0 to keep track of the maximum length found so far.\n",
    "2. Initialize a variable count as 0 to keep track of the running count of zeros and ones in the array.\n",
    "3. Create an empty dictionary count_dict to store the count of count at each index.\n",
    "4. Iterate through the binary array nums and perform the following steps for each element:\n",
    "- If the current element is 1, increment count by 1.\n",
    "- If the current element is 0, decrement count by 1.\n",
    "- If count is 0, update `max_length` to the current index + 1 (since we have an equal number of 0s and 1s so far).\n",
    "- If count is already present in `count_dict`, update max_length to the maximum of `max_length` and the difference between the current index and the index stored in count_dict[count].\n",
    "- If count is not present in `count_dict`, add count to count_dict with its corresponding index.\n",
    "5. Return `max_length` as the maximum length of a contiguous subarray with an equal number of 0 and 1."
   ]
  },
  {
   "attachments": {},
   "cell_type": "markdown",
   "metadata": {},
   "source": [
    "**Time Complexity**: `O(n)`\n",
    "\n",
    "**Space Complexity**: `O(n)`"
   ]
  },
  {
   "cell_type": "code",
   "execution_count": 2,
   "metadata": {},
   "outputs": [
    {
     "name": "stdout",
     "output_type": "stream",
     "text": [
      "2\n"
     ]
    }
   ],
   "source": [
    "class Solution(object):\n",
    "    def findMaxLength(self, nums):\n",
    "        max_length = 0\n",
    "        count = 0\n",
    "        count_dict = {}\n",
    "        \n",
    "        for i in range(len(nums)):\n",
    "            if nums[i] == 1:\n",
    "                count += 1\n",
    "            else:\n",
    "                count -= 1\n",
    "            \n",
    "            if count == 0:\n",
    "                max_length = i + 1\n",
    "            elif count in count_dict:\n",
    "                max_length = max(max_length, i - count_dict[count])\n",
    "            else:\n",
    "                count_dict[count] = i\n",
    "        \n",
    "        return max_length\n",
    "nums = [0, 1]\n",
    "solution = Solution()\n",
    "max_length = solution.findMaxLength(nums)\n",
    "print(max_length)  \n"
   ]
  },
  {
   "attachments": {},
   "cell_type": "markdown",
   "metadata": {},
   "source": [
    "**Question 5**\n",
    "\n",
    "The **product sum** of two equal-length arrays a and b is equal to the sum of a[i] * b[i] for all 0 <= i < a.length (**0-indexed**).\n",
    "\n",
    "- For example, if a = [1,2,3,4] and b = [5,2,3,1], the **product sum** would be 1*5 + 2*2 + 3*3 + 4*1 = 22.\n",
    "\n",
    "Given two arrays nums1 and nums2 of length n, return *the **minimum product sum** if you are allowed to **rearrange** the **order** of the elements in* nums1.\n",
    "\n",
    "**Example 1:**\n",
    "\n",
    "**Input:** nums1 = [5,3,4,2], nums2 = [4,2,2,5]\n",
    "\n",
    "**Output:** 40\n",
    "\n",
    "**Explanation:**\n",
    "\n",
    "We can rearrange nums1 to become [3,5,4,2]. The product sum of [3,5,4,2] and [4,2,2,5] is 3*4 + 5*2 + 4*2 + 2*5 = 40.\n",
    "\n"
   ]
  },
  {
   "attachments": {},
   "cell_type": "markdown",
   "metadata": {},
   "source": [
    "`Approach`:\n",
    "1. Sort `nums1` in ascending order.\n",
    "2. Sort `nums2` in descending order.\n",
    "3. Initialize a variable product_sum as 0 to keep track of the minimum product sum.\n",
    "4. Iterate through the sorted arrays `nums1` and `nums2` simultaneously, and for each pair of elements at index i:\n",
    "- Compute the product of `nums1[i]` and `nums2[i]`.\n",
    "- Add the product to `product_sum`.\n",
    "5. Return `product_sum` as the minimum product sum."
   ]
  },
  {
   "attachments": {},
   "cell_type": "markdown",
   "metadata": {},
   "source": [
    "**Time Complexity**: `O(n log n)`\n",
    "\n",
    "**Space Complexity**: `O(n)`"
   ]
  },
  {
   "cell_type": "code",
   "execution_count": 3,
   "metadata": {},
   "outputs": [
    {
     "name": "stdout",
     "output_type": "stream",
     "text": [
      "40\n"
     ]
    }
   ],
   "source": [
    "def  minProductSum(nums1, nums2):\n",
    "    nums1.sort()   \n",
    "    nums2.sort(reverse=True)  \n",
    "    \n",
    "    product_sum = 0\n",
    "    \n",
    "    for i in range(len(nums1)):\n",
    "        product_sum += nums1[i] * nums2[i]\n",
    "    \n",
    "    return product_sum\n",
    "nums1 = [5, 3, 4, 2]\n",
    "nums2 = [4, 2, 2, 5]\n",
    "min_product_sum = minProductSum(nums1, nums2)\n",
    "print(min_product_sum)  \n",
    "\n"
   ]
  },
  {
   "attachments": {},
   "cell_type": "markdown",
   "metadata": {},
   "source": [
    "**Question 6**\n",
    "\n",
    "An integer array original is transformed into a **doubled** array changed by appending **twice the value** of every element in original, and then randomly **shuffling** the resulting array.\n",
    "\n",
    "Given an array changed, return original *if* changed *is a **doubled** array. If* changed *is not a **doubled** array, return an empty array. The elements in* original *may be returned in **any** order*.\n",
    "\n",
    "**Example 1:**\n",
    "\n",
    "**Input:** changed = [1,3,4,2,6,8]\n",
    "\n",
    "**Output:** [1,3,4]\n",
    "\n",
    "**Explanation:** One possible original array could be [1,3,4]:\n",
    "\n",
    "- Twice the value of 1 is 1 * 2 = 2.\n",
    "- Twice the value of 3 is 3 * 2 = 6.\n",
    "- Twice the value of 4 is 4 * 2 = 8.\n",
    "\n",
    "Other original arrays could be [4,3,1] or [3,1,4].\n",
    "\n"
   ]
  },
  {
   "attachments": {},
   "cell_type": "markdown",
   "metadata": {},
   "source": [
    "`Approach`:\n",
    "1. Create a dictionary or defaultdict to keep track of the count of each number in the changed array.\n",
    "2. Iterate over each element `num `in the changed array.\n",
    "- If num is already present in the count dictionary, decrement its count by 1.\n",
    "- Otherwise, set the `count` of num to 1.\n",
    "3. Create an empty original array to store the resulting original array.\n",
    "4. Iterate over each key-value pair (num, cnt) in the count dictionary.\n",
    "- If the count cnt is 0 or the count of `num * 2` is 0, continue to the next iteration.\n",
    "- Otherwise, extend the original array by repeating num cnt number of times.\n",
    "- Decrement the count of `num * 2` by cnt.\n",
    "5. Check if the length of the original array is equal to half the length of the changed array. If it is, return the original array; otherwise, return an empty array."
   ]
  },
  {
   "attachments": {},
   "cell_type": "markdown",
   "metadata": {},
   "source": [
    "**Time Complexity**: `O(n)`\n",
    "\n",
    "**Space Complexity**: `O(n)`"
   ]
  },
  {
   "cell_type": "code",
   "execution_count": 1,
   "metadata": {},
   "outputs": [
    {
     "name": "stdout",
     "output_type": "stream",
     "text": [
      "[1, 3, 4]\n"
     ]
    }
   ],
   "source": [
    "from collections import defaultdict\n",
    "\n",
    "def findOriginalArray(changed):\n",
    "    count = defaultdict(int)\n",
    "\n",
    "    for num in changed:\n",
    "        if num in count:\n",
    "            count[num] -= 1\n",
    "        else:\n",
    "            count[num] = 1\n",
    "\n",
    "    original = []\n",
    "\n",
    "    for num, cnt in count.items():\n",
    "        if cnt == 0 or count[num * 2] == 0:\n",
    "            continue\n",
    "        original.extend([num] * cnt)\n",
    "        count[num * 2] -= cnt\n",
    "\n",
    "    if len(original) == len(changed) // 2:\n",
    "        return original\n",
    "    else:\n",
    "        return []\n",
    "\n",
    "changed = [1, 3, 4, 2, 6, 8]\n",
    "original = findOriginalArray(changed)\n",
    "print(original)\n"
   ]
  },
  {
   "attachments": {},
   "cell_type": "markdown",
   "metadata": {},
   "source": [
    "**Question 7**\n",
    "\n",
    "Given a positive integer n, generate an n x n matrix filled with elements from 1 to n2 in spiral order.\n",
    "\n",
    "**Example 1:**\n",
    "\n",
    "**Input:** n = 3\n",
    "\n",
    "**Output:** [[1,2,3],[8,9,4],[7,6,5]]"
   ]
  },
  {
   "attachments": {},
   "cell_type": "markdown",
   "metadata": {},
   "source": [
    "`Approach`:\n",
    "1. Initialize an empty matrix result of size n x n.\n",
    "2. Initialize variables `row_start`, `row_end`, `col_start`, and `col_end` as 0, n-1, 0, and n-1 respectively. These variables represent the boundaries of the current spiral.\n",
    "3. Initialize a variable num as 1 to keep track of the current number to be filled in the matrix.\n",
    "- Use a while loop to iterate while `row_start <= row_end` and `col_start <= col_end`. This condition ensures that there are still elements to be filled in the matrix.\n",
    "- Within the while loop, perform the following steps:\n",
    "- Iterate from `col_start` to `col_end `(inclusive) and set `result[row_start][i]` as num. Increment num by 1.\n",
    "- Increment row_start by 1.\n",
    "- Iterate from `row_start` to `row_end` (inclusive) and set `result[i][col_end]` as num. Increment num by 1.\n",
    "- Decrement col_end by 1.\n",
    "4. Check if `row_start <= row_end`. If true, iterate from col_end to col_start (inclusive) and set `result[row_end][i]` as num. Increment num by 1.\n",
    "-  Decrement row_end by 1.\n",
    "5.  Check if `col_start <= col_end`. If true, iterate from row_end to row_start (inclusive) and set `result[i][col_start]` as num. Increment num by 1.\n",
    "- Increment col_start by 1.\n",
    "6. Return the generated result matrix."
   ]
  },
  {
   "attachments": {},
   "cell_type": "markdown",
   "metadata": {},
   "source": [
    "**Time Complexity**: `O(n^2)`\n",
    "\n",
    "**Space Complexity**: `O(n^2)`"
   ]
  },
  {
   "cell_type": "code",
   "execution_count": 7,
   "metadata": {},
   "outputs": [
    {
     "name": "stdout",
     "output_type": "stream",
     "text": [
      "[[1, 2, 3], [8, 9, 4], [7, 6, 5]]\n"
     ]
    }
   ],
   "source": [
    "class Solution(object):\n",
    "    def generateMatrix(self, n):\n",
    "        result = [[0] * n for _ in range(n)]\n",
    "        row_start = 0\n",
    "        row_end = n - 1\n",
    "        col_start = 0\n",
    "        col_end = n - 1\n",
    "        num = 1\n",
    "\n",
    "        while row_start <= row_end and col_start <= col_end:\n",
    "            for i in range(col_start, col_end + 1):\n",
    "                result[row_start][i] = num\n",
    "                num += 1\n",
    "            row_start += 1\n",
    "\n",
    "            for i in range(row_start, row_end + 1):\n",
    "                result[i][col_end] = num\n",
    "                num += 1\n",
    "            col_end -= 1\n",
    "\n",
    "            if row_start <= row_end:\n",
    "                for i in range(col_end, col_start - 1, -1):\n",
    "                    result[row_end][i] = num\n",
    "                    num += 1\n",
    "                row_end -= 1\n",
    "\n",
    "            if col_start <= col_end:\n",
    "                for i in range(row_end, row_start - 1, -1):\n",
    "                    result[i][col_start] = num\n",
    "                    num += 1\n",
    "                col_start += 1\n",
    "\n",
    "        return result\n",
    "n = 3\n",
    "solution = Solution()\n",
    "result = solution.generateMatrix(n)\n",
    "print(result)\n"
   ]
  },
  {
   "attachments": {},
   "cell_type": "markdown",
   "metadata": {},
   "source": [
    "**Question 8**\n",
    "\n",
    "Given two sparse matrices mat1 of size m x k and mat2 of size k x n, return the result of mat1 x mat2. You may assume that multiplication is always possible.\n",
    "\n",
    "**Example 1:**\n",
    "\n",
    "**Input:** \n",
    "\n",
    "mat1 = [[1,0,0],[-1,0,3]], mat2 = [[7,0,0],[0,0,0],[0,0,1]]\n",
    "\n",
    "**Output:**\n",
    "\n",
    "[[7,0,0],[-7,0,3]]"
   ]
  },
  {
   "attachments": {},
   "cell_type": "markdown",
   "metadata": {},
   "source": [
    "`Approach`:\n",
    "1. Initialize an empty matrix result of size m x n, where m is the number of rows in mat1 and n is the number of columns in mat2.\n",
    "2. Iterate through each row of mat1 and each column of mat2 to compute the dot product of the corresponding row in mat1 and column in mat2.\n",
    "- For each row in mat1, iterate through each non-zero element and its corresponding column index.\n",
    "- For each column in mat2, iterate through each non-zero element and its corresponding row index.\n",
    "- Multiply the non-zero element in mat1 with the non-zero element in mat2 if the column index in mat1 matches the row index in mat2.\n",
    "- Add the product to the corresponding element in the result matrix.\n",
    "3.  Return the result matrix."
   ]
  },
  {
   "attachments": {},
   "cell_type": "markdown",
   "metadata": {},
   "source": [
    "**Time Complexity**: `O(m*n*k)`\n",
    "\n",
    "**Space Complexity**: `O(m*n)`"
   ]
  },
  {
   "cell_type": "code",
   "execution_count": 8,
   "metadata": {},
   "outputs": [
    {
     "name": "stdout",
     "output_type": "stream",
     "text": [
      "[[7, 0, 0], [-7, 0, 3]]\n"
     ]
    }
   ],
   "source": [
    "def multiplySparseMatrices(mat1, mat2):\n",
    "    m = len(mat1)\n",
    "    k = len(mat1[0])\n",
    "    n = len(mat2[0])\n",
    "\n",
    "    result = [[0] * n for _ in range(m)]\n",
    "\n",
    "    for i in range(m):\n",
    "        for j in range(n):\n",
    "            dot_product = 0\n",
    "            for p in range(k):\n",
    "                if mat1[i][p] != 0 and mat2[p][j] != 0:\n",
    "                    dot_product += mat1[i][p] * mat2[p][j]\n",
    "            result[i][j] = dot_product\n",
    "\n",
    "    return result\n",
    "mat1 = [[1, 0, 0], [-1, 0, 3]]\n",
    "mat2 = [[7, 0, 0], [0, 0, 0], [0, 0, 1]]\n",
    "\n",
    "result = multiplySparseMatrices(mat1, mat2)\n",
    "print(result)\n",
    "\n"
   ]
  }
 ],
 "metadata": {
  "kernelspec": {
   "display_name": "base",
   "language": "python",
   "name": "python3"
  },
  "language_info": {
   "codemirror_mode": {
    "name": "ipython",
    "version": 3
   },
   "file_extension": ".py",
   "mimetype": "text/x-python",
   "name": "python",
   "nbconvert_exporter": "python",
   "pygments_lexer": "ipython3",
   "version": "3.10.9"
  },
  "orig_nbformat": 4
 },
 "nbformat": 4,
 "nbformat_minor": 2
}
