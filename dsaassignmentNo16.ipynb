{
 "cells": [
  {
   "attachments": {},
   "cell_type": "markdown",
   "metadata": {},
   "source": [
    "# DSA Assignment 16 Solution  "
   ]
  },
  {
   "attachments": {},
   "cell_type": "markdown",
   "metadata": {},
   "source": [
    " **Question 1**\n",
    "\n",
    "Given an array, for each element find the value of the nearest element to the right which is having a frequency greater than that of the current element. If there does not exist an answer for a position, then make the value ‘-1’.\n",
    "\n",
    "**Examples:**\n",
    "```\n",
    "Input: a[] = [1, 1, 2, 3, 4, 2, 1]\n",
    "Output : [-1, -1, 1, 2, 2, 1, -1]\n",
    "\n",
    "Explanation:\n",
    "Given array a[] = [1, 1, 2, 3, 4, 2, 1]\n",
    "Frequency of each element is: 3, 3, 2, 1, 1, 2, 3\n",
    "\n",
    "Lets calls Next Greater Frequency element as NGF\n",
    "1. For element a[0] = 1 which has a frequency = 3,\n",
    "   As it has frequency of 3 and no other next element\n",
    "   has frequency more than 3 so  '-1'\n",
    "2. For element a[1] = 1 it will be -1 same logic\n",
    "   like a[0]\n",
    "3. For element a[2] = 2 which has frequency = 2,\n",
    "   NGF element is 1 at position = 6  with frequency\n",
    "   of 3 > 2\n",
    "4. For element a[3] = 3 which has frequency = 1,\n",
    "   NGF element is 2 at position = 5 with frequency\n",
    "   of 2 > 1\n",
    "5. For element a[4] = 4 which has frequency = 1,\n",
    "   NGF element is 2 at position = 5 with frequency\n",
    "   of 2 > 1\n",
    "6. For element a[5] = 2 which has frequency = 2,\n",
    "   NGF element is 1 at position = 6 with frequency\n",
    "   of 3 > 2\n",
    "7. For element a[6] = 1 there is no element to its\n",
    "   right, hence -1\n",
    "\n",
    "```\n",
    "Input : a[] = [1, 1, 1, 2, 2, 2, 2, 11, 3, 3]\n",
    "\n",
    "Output : [2, 2, 2, -1, -1, -1, -1, 3, -1, -1]"
   ]
  },
  {
   "attachments": {},
   "cell_type": "markdown",
   "metadata": {},
   "source": [
    "`Approach`:\n",
    "1. Create a dictionary to store the frequency of each element in the array.\n",
    "2. Initialize an empty stack to store the indices of elements.\n",
    "3. Create a result array with the same length as the input array and initialize all elements as -1.\n",
    "4. Iterate over the array from right to left:\n",
    "- While the stack is not empty and the frequency of the current element is greater than the frequency of the element at the top of the stack:\n",
    "-  Pop the top element from the stack.\n",
    "- Update the result array at the popped index with the current element.\n",
    "- Push the current index onto the stack.\n",
    "5. Return the result array."
   ]
  },
  {
   "attachments": {},
   "cell_type": "markdown",
   "metadata": {},
   "source": [
    "**Time Complexity**: `O(n)`\n",
    "\n",
    "**Space Complexity**: `O(n)`"
   ]
  },
  {
   "cell_type": "code",
   "execution_count": 2,
   "metadata": {},
   "outputs": [
    {
     "name": "stdout",
     "output_type": "stream",
     "text": [
      "[-1, -1, 1, 2, 2, 1, -1]\n",
      "[2, 2, 2, -1, -1, -1, -1, 3, -1, -1]\n"
     ]
    }
   ],
   "source": [
    "def find_nearest_greater_frequency(arr):\n",
    "    frequency = {}\n",
    "    stack = []\n",
    "    result = [-1] * len(arr)\n",
    "\n",
    "    # Calculate the frequency of each element\n",
    "    for num in arr:\n",
    "        frequency[num] = frequency.get(num, 0) + 1\n",
    "\n",
    "    # Iterate over the array from right to left\n",
    "    for i in range(len(arr) - 1, -1, -1):\n",
    "        # Pop elements from the stack while their frequency is less than or equal to the current element's frequency\n",
    "        while stack and frequency[arr[i]] >= frequency[arr[stack[-1]]]:\n",
    "            stack.pop()\n",
    "\n",
    "        # If there is an element to the right with a higher frequency, update the result array\n",
    "        if stack:\n",
    "            result[i] = arr[stack[-1]]\n",
    "\n",
    "        # Push the current index onto the stack\n",
    "        stack.append(i)\n",
    "\n",
    "    return result\n",
    "arr1 = [1, 1, 2, 3, 4, 2, 1]\n",
    "print(find_nearest_greater_frequency(arr1))\n",
    "\n",
    "arr2 = [1, 1, 1, 2, 2, 2, 2, 11, 3, 3]\n",
    "print(find_nearest_greater_frequency(arr2))\n"
   ]
  },
  {
   "attachments": {},
   "cell_type": "markdown",
   "metadata": {},
   "source": [
    "**Question 2**\n",
    "\n",
    "Given a stack of integers, sort it in ascending order using another temporary stack.\n",
    "\n",
    "**Examples:**\n",
    "```\n",
    "Input : [34, 3, 31, 98, 92, 23]\n",
    "Output : [3, 23, 31, 34, 92, 98]\n",
    "\n",
    "Input : [3, 5, 1, 4, 2, 8]\n",
    "Output : [1, 2, 3, 4, 5, 8]\n",
    "\n",
    "```\n"
   ]
  },
  {
   "attachments": {},
   "cell_type": "markdown",
   "metadata": {},
   "source": [
    "`Approach`:\n",
    "1. Create an empty temporary stack.\n",
    "2. While the input stack is not empty:\n",
    "- Pop the top element from the input stack and store it in a variable called temp.\n",
    "- While the temporary stack is not empty and the top element of the temporary stack is greater than temp:\n",
    "  - Pop the top element from the temporary stack and push it onto the input stack.\n",
    "  - Push temp onto the temporary stack.\n",
    "3. The temporary stack now contains the sorted elements in descending order.\n",
    "4. Reverse the elements from the temporary stack and push them back onto the input stack.\n",
    "5. Return the sorted input stack"
   ]
  },
  {
   "attachments": {},
   "cell_type": "markdown",
   "metadata": {},
   "source": [
    "**Time Complexity**: `O(n^2)`\n",
    "\n",
    "**Space Complexity**: `O(n)`"
   ]
  },
  {
   "cell_type": "code",
   "execution_count": 3,
   "metadata": {},
   "outputs": [
    {
     "name": "stdout",
     "output_type": "stream",
     "text": [
      "[3, 23, 31, 34, 92, 98]\n"
     ]
    }
   ],
   "source": [
    "def sort_stack(stack):\n",
    "    temp_stack = []\n",
    "\n",
    "    while stack:\n",
    "        temp = stack.pop()\n",
    "\n",
    "        while temp_stack and temp_stack[-1] > temp:\n",
    "            stack.append(temp_stack.pop())\n",
    "\n",
    "        temp_stack.append(temp)\n",
    "\n",
    "    while temp_stack:\n",
    "        stack.append(temp_stack.pop())\n",
    "\n",
    "    return sorted(stack)\n",
    "\n",
    "stack = [34, 3, 31, 98, 92, 23]\n",
    "sorted_stack = sort_stack(stack)\n",
    "print(sorted_stack)"
   ]
  },
  {
   "attachments": {},
   "cell_type": "markdown",
   "metadata": {},
   "source": [
    "**Question 3**\n",
    "\n",
    "Given a stack with **push()**, **pop()**, and **empty()** operations, The task is to delete the **middle** element ****of it without using any additional data structure.\n",
    "\n",
    "Input  : Stack[] = [1, 2, 3, 4, 5]\n",
    "\n",
    "Output : Stack[] = [1, 2, 4, 5]\n",
    "\n",
    "Input  : Stack[] = [1, 2, 3, 4, 5, 6]\n",
    "\n",
    "Output : Stack[] = [1, 2, 4, 5, 6]\n",
    "\n"
   ]
  },
  {
   "attachments": {},
   "cell_type": "markdown",
   "metadata": {},
   "source": [
    "`Approach`:\n",
    "1. Find the size of the stack using a loop and a temporary stack.\n",
    "- Pop elements from the original stack one by one and push them into the temporary stack.\n",
    "- Keep track of the number of elements popped from the original stack.\n",
    "- Once all elements are popped from the original stack, the temporary stack will contain all elements in reverse order.\n",
    "2. Find the index of the middle element based on the size of the stack.\n",
    "- If the size is odd, the middle index is (size // 2) + 1.\n",
    "- If the size is even, the middle index is size // 2.\n",
    "3. Pop elements from the temporary stack one by one and push them back into the original stack until reaching the middle index.\n",
    "4. Skip popping the middle element from the temporary stack.\n",
    "5. Continue popping elements from the temporary stack and push them back into the original stack.\n",
    "6. The original stack now contains all elements except the middle one."
   ]
  },
  {
   "attachments": {},
   "cell_type": "markdown",
   "metadata": {},
   "source": [
    "**Time Complexity**: `O(n)`\n",
    "\n",
    "**Space Complexity**: `O(n)`"
   ]
  },
  {
   "cell_type": "code",
   "execution_count": 2,
   "metadata": {},
   "outputs": [
    {
     "name": "stdout",
     "output_type": "stream",
     "text": [
      "[1, 2, 4, 5]\n",
      "[1, 2, 3, 4, 5, 6]\n"
     ]
    }
   ],
   "source": [
    "def delete_middle_element(stack):\n",
    "    size = len(stack)\n",
    "    temp_stack = []\n",
    "\n",
    "    # Move elements from the original stack to the temporary stack\n",
    "    while stack:\n",
    "        temp_stack.append(stack.pop())\n",
    "\n",
    "    middle_index = size // 2\n",
    "    is_odd_size = size % 2 == 1\n",
    "\n",
    "    # Pop elements from the temporary stack and push them back to the original stack,\n",
    "    # skipping the middle element\n",
    "    for _ in range(middle_index):\n",
    "        stack.append(temp_stack.pop())\n",
    "\n",
    "    if is_odd_size:\n",
    "        temp_stack.pop()\n",
    "\n",
    "    # Push the remaining elements from the temporary stack back to the original stack\n",
    "    while temp_stack:\n",
    "        stack.append(temp_stack.pop())\n",
    "\n",
    "    return stack\n",
    "stack1 = [1, 2, 3, 4, 5]\n",
    "print(delete_middle_element(stack1))\n",
    "# Output: [1, 2, 4, 5]\n",
    "\n",
    "stack2 = [1, 2, 3, 4, 5, 6]\n",
    "print(delete_middle_element(stack2))\n",
    "# Output: [1, 2, 4, 5, 6]\n"
   ]
  },
  {
   "attachments": {},
   "cell_type": "markdown",
   "metadata": {},
   "source": [
    "**Question 4**\n",
    "\n",
    "Given a Queue consisting of first **n** natural numbers (in random order). The task is to check whether the given Queue elements can be arranged in increasing order in another Queue using a stack. The operation allowed are:\n",
    "\n",
    "1. Push and pop elements from the stack\n",
    "2. Pop (Or Dequeue) from the given Queue.\n",
    "3. Push (Or Enqueue) in the another Queue.\n",
    "\n",
    "**Examples :**\n",
    "\n",
    "Input : Queue[] = { 5, 1, 2, 3, 4 } \n",
    "\n",
    "Output : Yes \n",
    "\n",
    "Pop the first element of the given Queue \n",
    "\n",
    "i.e 5. Push 5 into the stack. \n",
    "\n",
    "Now, pop all the elements of the given Queue and push them to second Queue. \n",
    "\n",
    "Now, pop element 5 in the stack and push it to the second Queue.   \n",
    "\n",
    "Input : Queue[] = { 5, 1, 2, 6, 3, 4 } \n",
    "\n",
    "Output : No \n",
    "\n",
    "Push 5 to stack. \n",
    "\n",
    "Pop 1, 2 from given Queue and push it to another Queue. \n",
    "\n",
    "Pop 6 from given Queue and push to stack. \n",
    "\n",
    "Pop 3, 4 from given Queue and push to second Queue. \n",
    "\n",
    "Now, from using any of above operation, we cannot push 5 into the second Queue because it is below the 6 in the stack.\n",
    "\n"
   ]
  },
  {
   "attachments": {},
   "cell_type": "markdown",
   "metadata": {},
   "source": [
    "`Approach`:\n",
    "1. Initialize the expected_element = 1 \n",
    "2. Check if either front element of given Queue or top element of the stack have expected_element \n",
    "3. If yes, increment expected_element by 1, repeat step 2. \n",
    "4. Else, pop front of Queue and push it to the stack. If the popped element is greater than top of the Stack, return “No”."
   ]
  },
  {
   "attachments": {},
   "cell_type": "markdown",
   "metadata": {},
   "source": [
    "**Time Complexity**: `O(n)`\n",
    "\n",
    "**Space Complexity**: `O(n)`"
   ]
  },
  {
   "cell_type": "code",
   "execution_count": 4,
   "metadata": {},
   "outputs": [
    {
     "name": "stdout",
     "output_type": "stream",
     "text": [
      "Yes\n",
      "No\n"
     ]
    }
   ],
   "source": [
    "from queue import Queue\n",
    "\n",
    "# Function to check if given queue element\n",
    "# can be sorted into another queue using a\n",
    "# stack.\n",
    "def checkSorted(n, q):\n",
    "\tst = []\n",
    "\texpected = 1\n",
    "\tfnt = None\n",
    "\n",
    "\t# while given Queue is not empty.\n",
    "\twhile (not q.empty()):\n",
    "\t\tfnt = q.queue[0]\n",
    "\t\tq.get()\n",
    "\n",
    "\t\t# if front element is the\n",
    "\t\t# expected element\n",
    "\t\tif (fnt == expected):\n",
    "\t\t\texpected += 1\n",
    "\n",
    "\t\telse:\n",
    "\t\t\t\n",
    "\t\t\t# if stack is empty, put the element\n",
    "\t\t\tif (len(st) == 0):\n",
    "\t\t\t\tst.append(fnt)\n",
    "\n",
    "\t\t\t# if top element is less than element which\n",
    "\t\t\t# need to be puted, then return false.\n",
    "\t\t\telif (len(st) != 0 and st[-1] < fnt):\n",
    "\t\t\t\treturn False\n",
    "\n",
    "\t\t\telse:\n",
    "\t\t\t\tst.append(fnt)\n",
    "\n",
    "\t\twhile (len(st) != 0 and\n",
    "\t\t\t\tst[-1] == expected):\n",
    "\t\t\tst.pop()\n",
    "\t\t\texpected += 1\n",
    "\n",
    "\tif (expected - 1 == n and len(st) == 0):\n",
    "\t\treturn True\n",
    "\n",
    "\treturn False\n",
    "\n",
    "# Driver Code\n",
    "if __name__ == '__main__':\n",
    "\tq = Queue()\n",
    "\tq.put(5)\n",
    "\tq.put(1)\n",
    "\tq.put(2)\n",
    "\tq.put(3)\n",
    "\tq.put(4)\n",
    "\n",
    "\tn = q.qsize()\n",
    "\n",
    "\tif checkSorted(n, q):\n",
    "\t\tprint(\"Yes\")\n",
    "\telse:\n",
    "\t\tprint(\"No\")\n",
    "\n",
    "if __name__ == '__main__':\n",
    "\tq = Queue()\n",
    "\tq.put(5)\n",
    "\tq.put(1)\n",
    "\tq.put(2)\n",
    "\tq.put(6)\n",
    "\tq.put(3)\n",
    "\tq.put(4)\n",
    "\n",
    "\tn = q.qsize()\n",
    "\n",
    "\tif checkSorted(n, q):\n",
    "\t\tprint(\"Yes\")\n",
    "\telse:\n",
    "\t\tprint(\"No\")\n"
   ]
  },
  {
   "attachments": {},
   "cell_type": "markdown",
   "metadata": {},
   "source": [
    " **Question 5**\n",
    "\n",
    "Given a number , write a program to reverse this number using stack.\n",
    "\n",
    "**Examples:**\n",
    "```\n",
    "Input : 365\n",
    "Output : 563\n",
    "\n",
    "Input : 6899\n",
    "Output : 9986\n",
    "\n",
    "```"
   ]
  },
  {
   "attachments": {},
   "cell_type": "markdown",
   "metadata": {},
   "source": [
    "`Approach`:\n",
    "1. Convert the number to a string.\n",
    "2. Initialize an empty stack.\n",
    "3. Iterate over each digit in the string representation of the number.\n",
    "4. Push each digit onto the stack.\n",
    "5. Pop the digits from the stack and construct the reversed number.\n",
    "6. Print the reversed number."
   ]
  },
  {
   "attachments": {},
   "cell_type": "markdown",
   "metadata": {},
   "source": [
    "**Time Complexity**: `O(log n)`\n",
    "\n",
    "**Space Complexity**: `O(log n)`"
   ]
  },
  {
   "cell_type": "code",
   "execution_count": 10,
   "metadata": {},
   "outputs": [
    {
     "name": "stdout",
     "output_type": "stream",
     "text": [
      "563\n",
      "9986\n"
     ]
    }
   ],
   "source": [
    "def reverse_number(number):\n",
    "    # Convert the number to a string\n",
    "    number_str = str(number)\n",
    "    \n",
    "    # Initialize an empty stack\n",
    "    stack = []\n",
    "    \n",
    "    # Push each digit onto the stack\n",
    "    for digit in number_str:\n",
    "        stack.append(digit)\n",
    "    \n",
    "    # Pop the digits from the stack and construct the reversed number\n",
    "    reversed_number = ''\n",
    "    while stack:\n",
    "        reversed_number += stack.pop()\n",
    "    \n",
    "    # Convert the reversed number back to an integer\n",
    "    reversed_number = int(reversed_number)\n",
    "    \n",
    "    # Return the reversed number\n",
    "    return reversed_number\n",
    "\n",
    "# Example usage\n",
    "number = 365\n",
    "\n",
    "# Function call to reverse number\n",
    "reversed_number = reverse_number(number)\n",
    "print(reversed_number)\n",
    "number = 6899\n",
    "\n",
    "# Function call to reverse number\n",
    "reversed_number = reverse_number(number)\n",
    "print(reversed_number)\n"
   ]
  },
  {
   "attachments": {},
   "cell_type": "markdown",
   "metadata": {},
   "source": [
    "**Question 6**\n",
    "\n",
    "Given an integer k and a **[queue](https://www.geeksforgeeks.org/queue-data-structure/)** of integers, The task is to reverse the order of the first **k** elements of the queue, leaving the other elements in the same relative order.\n",
    "\n",
    "Only following standard operations are allowed on queue.\n",
    "\n",
    "- **enqueue(x) :** Add an item x to rear of queue\n",
    "- **dequeue() :** Remove an item from front of queue\n",
    "- **size() :** Returns number of elements in queue.\n",
    "- **front() :** Finds front item.\n"
   ]
  },
  {
   "attachments": {},
   "cell_type": "markdown",
   "metadata": {},
   "source": [
    "`Approach`:\n",
    "1. Create an empty stack.\n",
    "2. Dequeue the first k elements from the queue and push them onto the stack.\n",
    "3. While the stack is not empty, pop an element from the stack and enqueue it back into the queue.\n",
    "4. Dequeue the remaining elements from the queue and enqueue them back into the queue.\n",
    "5. The order of the first k elements in the queue is now reversed.\n"
   ]
  },
  {
   "attachments": {},
   "cell_type": "markdown",
   "metadata": {},
   "source": [
    "**Time Complexity**: `O(n)`\n",
    "\n",
    "**Space Complexity**: `O(k)`"
   ]
  },
  {
   "cell_type": "code",
   "execution_count": 2,
   "metadata": {},
   "outputs": [
    {
     "name": "stdout",
     "output_type": "stream",
     "text": [
      "3\n",
      "2\n",
      "1\n",
      "4\n",
      "5\n"
     ]
    }
   ],
   "source": [
    "from queue import Queue\n",
    "\n",
    "def reverse_k_elements(queue, k):\n",
    "    if k <= 0 or k > queue.qsize():\n",
    "        return  # Invalid k value\n",
    "\n",
    "    stack = []  # Stack to temporarily store elements\n",
    "    # Dequeue the first k elements and push them onto the stack\n",
    "    for _ in range(k):\n",
    "        element = queue.get()\n",
    "        stack.append(element)\n",
    "\n",
    "    # Enqueue the elements from the stack back into the queue\n",
    "    while stack:\n",
    "        element = stack.pop()\n",
    "        queue.put(element)\n",
    "\n",
    "    # Dequeue the remaining elements and enqueue them back into the queue\n",
    "    for _ in range(queue.qsize() - k):\n",
    "        element = queue.get()\n",
    "        queue.put(element)\n",
    "\n",
    "# Example usage\n",
    "queue = Queue()\n",
    "queue.put(1)\n",
    "queue.put(2)\n",
    "queue.put(3)\n",
    "queue.put(4)\n",
    "queue.put(5)\n",
    "\n",
    "k = 3\n",
    "\n",
    "reverse_k_elements(queue, k)\n",
    "\n",
    "# Print the modified queue\n",
    "while not queue.empty():\n",
    "    print(queue.get())\n"
   ]
  },
  {
   "attachments": {},
   "cell_type": "markdown",
   "metadata": {},
   "source": [
    "**Question 7**\n",
    "\n",
    "Given a sequence of n strings, the task is to check if any two similar words come together and then destroy each other then print the number of words left in the sequence after this pairwise destruction.\n",
    "\n",
    "**Examples:**\n",
    "\n",
    "Input : ab aa aa bcd ab\n",
    "\n",
    "Output : 3\n",
    "\n",
    "*As aa, aa destroys each other so,*\n",
    "\n",
    "*ab bcd ab is the new sequence.*\n",
    "\n",
    "Input :  tom jerry jerry tom\n",
    "\n",
    "Output : 0\n",
    "\n",
    "*As first both jerry will destroy each other.*\n",
    "\n",
    "*Then sequence will be tom, tom they will also destroy*\n",
    "\n",
    "*each other. So, the final sequence doesn’t contain any*\n",
    "\n",
    "*word.*\n",
    "\n",
    "\n"
   ]
  },
  {
   "attachments": {},
   "cell_type": "markdown",
   "metadata": {},
   "source": [
    "`Approach`:\n",
    "1. Initialize an empty stack.\n",
    "2. Iterate through each word in the sequence.\n",
    "3. If the stack is empty or the current word is not the same as the word at the top of the stack, push the current word onto the stack.\n",
    "4. Otherwise, if the current word is the same as the word at the top of the stack, pop the word from the stack (destroying it).\n",
    "5. After iterating through all the words, the remaining words in the stack are the words that have not been destroyed.\n",
    "6. Return the number of words left in the stack."
   ]
  },
  {
   "attachments": {},
   "cell_type": "markdown",
   "metadata": {},
   "source": [
    "**Time Complexity**: `O(n)`\n",
    "\n",
    "**Space Complexity**: `O(n)`"
   ]
  },
  {
   "cell_type": "code",
   "execution_count": 10,
   "metadata": {},
   "outputs": [
    {
     "name": "stdout",
     "output_type": "stream",
     "text": [
      "3\n",
      "0\n"
     ]
    }
   ],
   "source": [
    "def count_remaining_words(sequence):\n",
    "    stack = []\n",
    "\n",
    "    for word in sequence:\n",
    "        if not stack or word != stack[-1]:\n",
    "            stack.append(word)\n",
    "        else:\n",
    "            stack.pop()\n",
    "\n",
    "    return len(stack)\n",
    "sequence_1 = ['ab', 'aa', 'aa', 'bcd', 'ab']\n",
    "print(count_remaining_words(sequence_1))\n",
    "# Output: 3\n",
    "\n",
    "sequence_2 = ['tom', 'jerry', 'jerry', 'tom']\n",
    "print(count_remaining_words(sequence_2))\n",
    "# Output: 0\n"
   ]
  },
  {
   "attachments": {},
   "cell_type": "markdown",
   "metadata": {},
   "source": [
    "**Question 8**\n",
    "\n",
    "Given an array of integers, the task is to find the maximum absolute difference between the nearest left and the right smaller element of every element in the array.\n",
    "\n",
    "**Note:** If there is no smaller element on right side or left side of any element then we take zero as the smaller element. For example for the leftmost element, the nearest smaller element on the left side is considered as 0. Similarly, for rightmost elements, the smaller element on the right side is considered as 0.\n",
    "\n",
    "**Examples:**\n",
    "\n",
    "```\n",
    "Input : arr[] = {2, 1, 8}\n",
    "Output : 1\n",
    "Left smaller  LS[] {0, 0, 1}\n",
    "Right smaller RS[] {1, 0, 0}\n",
    "Maximum Diff of abs(LS[i] - RS[i]) = 1\n",
    "\n",
    "Input  : arr[] = {2, 4, 8, 7, 7, 9, 3}\n",
    "Output : 4\n",
    "Left smaller   LS[] = {0, 2, 4, 4, 4, 7, 2}\n",
    "Right smaller  RS[] = {0, 3, 7, 3, 3, 3, 0}\n",
    "Maximum Diff of abs(LS[i] - RS[i]) = 7 - 3 = 4\n",
    "\n",
    "Input : arr[] = {5, 1, 9, 2, 5, 1, 7}\n",
    "Output : 1\n",
    "\n",
    "```\n"
   ]
  },
  {
   "attachments": {},
   "cell_type": "markdown",
   "metadata": {},
   "source": [
    "`Approach`:\n",
    "1. Initialize two arrays, LS and RS, with the same size as the input array, filled with zeros.\n",
    "2. Create an empty stack.\n",
    "3. Iterate through the array from left to right:\n",
    "- Pop elements from the stack until the top of the stack is smaller than the current element, updating the LS array with the popped elements.\n",
    "- Push the current element into the stack.\n",
    "4. Clear the stack.\n",
    "5. Iterate through the array from right to left:\n",
    "- Pop elements from the stack until the top of the stack is smaller than the current element, updating the RS array with the popped elements.\n",
    "- Push the current element into the stack.\n",
    "6. Initialize the maximum difference (max_diff) to 0.\n",
    "7. Iterate through the array and calculate the absolute difference between LS[i] and RS[i].\n",
    "- If the absolute difference is greater than max_diff, update max_diff.\n",
    "8. Return max_diff."
   ]
  },
  {
   "attachments": {},
   "cell_type": "markdown",
   "metadata": {},
   "source": [
    "**Time Complexity**: `O(n)`\n",
    "\n",
    "**Space Complexity**: `O(n)`"
   ]
  },
  {
   "cell_type": "code",
   "execution_count": 11,
   "metadata": {},
   "outputs": [
    {
     "name": "stdout",
     "output_type": "stream",
     "text": [
      "1\n",
      "4\n",
      "1\n"
     ]
    }
   ],
   "source": [
    "def max_absolute_difference(arr):\n",
    "    n = len(arr)\n",
    "    LS = [0] * n\n",
    "    RS = [0] * n\n",
    "    stack = []\n",
    "\n",
    "    # Calculate the nearest smaller element on the left (LS)\n",
    "    for i in range(n):\n",
    "        while stack and stack[-1] >= arr[i]:\n",
    "            stack.pop()\n",
    "        if stack:\n",
    "            LS[i] = stack[-1]\n",
    "        stack.append(arr[i])\n",
    "\n",
    "    stack.clear()\n",
    "\n",
    "    # Calculate the nearest smaller element on the right (RS)\n",
    "    for i in range(n - 1, -1, -1):\n",
    "        while stack and stack[-1] >= arr[i]:\n",
    "            stack.pop()\n",
    "        if stack:\n",
    "            RS[i] = stack[-1]\n",
    "        stack.append(arr[i])\n",
    "\n",
    "    max_diff = 0\n",
    "\n",
    "    # Calculate the maximum absolute difference\n",
    "    for i in range(n):\n",
    "        diff = abs(LS[i] - RS[i])\n",
    "        if diff > max_diff:\n",
    "            max_diff = diff\n",
    "\n",
    "    return max_diff\n",
    "arr_1 = [2, 1, 8]\n",
    "print(max_absolute_difference(arr_1))\n",
    "# Output: 1\n",
    "\n",
    "arr_2 = [2, 4, 8, 7, 7, 9, 3]\n",
    "print(max_absolute_difference(arr_2))\n",
    "# Output: 4\n",
    "\n",
    "arr_3 = [5, 1, 9, 2, 5, 1, 7]\n",
    "print(max_absolute_difference(arr_3))\n",
    "# Output: 1\n"
   ]
  }
 ],
 "metadata": {
  "kernelspec": {
   "display_name": "base",
   "language": "python",
   "name": "python3"
  },
  "language_info": {
   "codemirror_mode": {
    "name": "ipython",
    "version": 3
   },
   "file_extension": ".py",
   "mimetype": "text/x-python",
   "name": "python",
   "nbconvert_exporter": "python",
   "pygments_lexer": "ipython3",
   "version": "3.10.9"
  },
  "orig_nbformat": 4
 },
 "nbformat": 4,
 "nbformat_minor": 2
}
