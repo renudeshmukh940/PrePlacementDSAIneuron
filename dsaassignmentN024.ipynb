{
 "cells": [
  {
   "attachments": {},
   "cell_type": "markdown",
   "metadata": {},
   "source": [
    "# DSA Assignment 24 Solution"
   ]
  },
  {
   "attachments": {},
   "cell_type": "markdown",
   "metadata": {},
   "source": [
    "1. **Roman to Integer**\n",
    "\n",
    "Roman numerals are represented by seven different symbols: `I`, `V`, `X`, `L`, `C`, `D` and `M`.\n",
    "\n",
    "For example, `2` is written as `II` in Roman numeral, just two ones added together. `12` is written as `XII`, which is simply `X + II`. The number `27` is written as `XXVII`, which is `XX + V + II`.\n",
    "\n",
    "Roman numerals are usually written largest to smallest from left to right. However, the numeral for four is not `IIII`. Instead, the number four is written as `IV`. Because the one is before the five we subtract it making four. The same principle applies to the number nine, which is written as `IX`. There are six instances where subtraction is used:\n",
    "\n",
    "- `I` can be placed before `V` (5) and `X` (10) to make 4 and 9.\n",
    "- `X` can be placed before `L` (50) and `C` (100) to make 40 and 90.\n",
    "- `C` can be placed before `D` (500) and `M` (1000) to make 400 and 900.\n",
    "\n",
    "Given a roman numeral, convert it to an integer.\n",
    "\n",
    "**Example 1:**\n",
    "```\n",
    "Input: s = \"III\"\n",
    "Output: 3\n",
    "Explanation: III = 3.\n",
    "```\n",
    "**Example 2:**\n",
    "```\n",
    "Input: s = \"LVIII\"\n",
    "Output: 58\n",
    "Explanation: L = 50, V= 5, III = 3.\n",
    "```\n",
    "**Constraints:**\n",
    "\n",
    "- `1 <= s.length <= 15`\n",
    "- `s` contains only the characters `('I', 'V', 'X', 'L', 'C', 'D', 'M')`.\n",
    "- It is **guaranteed** that `s` is a valid roman numeral in the range `[1, 3999]`.\n",
    "****"
   ]
  },
  {
   "attachments": {},
   "cell_type": "markdown",
   "metadata": {},
   "source": [
    "`Approach`:\n",
    "1. Create a dictionary to store the values of Roman numerals:\n",
    "- roman_values = {\n",
    "    'I': 1,\n",
    "    'V': 5,\n",
    "    'X': 10,\n",
    "    'L': 50,\n",
    "    'C': 100,\n",
    "    'D': 500,\n",
    "    'M': 1000\n",
    "}\n",
    "2. Initialize a variable result to 0 to store the final integer value.\n",
    "3. Iterate through the characters of the input string s:\n",
    "- If the current character is the last character or its value is greater than or equal to the next character's value, add its corresponding value to result.\n",
    "- Otherwise, subtract its corresponding value from result.\n",
    "4. Return the final value of result."
   ]
  },
  {
   "attachments": {},
   "cell_type": "markdown",
   "metadata": {},
   "source": [
    "**Time complexity**: `O(n)`\n",
    " \n",
    "**Space Complexity**: `O(1)`"
   ]
  },
  {
   "cell_type": "code",
   "execution_count": 1,
   "metadata": {},
   "outputs": [
    {
     "name": "stdout",
     "output_type": "stream",
     "text": [
      "3\n",
      "58\n"
     ]
    }
   ],
   "source": [
    "def romanToInt(s):\n",
    "    roman_values = {\n",
    "        'I': 1,\n",
    "        'V': 5,\n",
    "        'X': 10,\n",
    "        'L': 50,\n",
    "        'C': 100,\n",
    "        'D': 500,\n",
    "        'M': 1000\n",
    "    }\n",
    "    \n",
    "    result = 0\n",
    "    n = len(s)\n",
    "    \n",
    "    for i in range(n):\n",
    "        if i == n - 1 or roman_values[s[i]] >= roman_values[s[i+1]]:\n",
    "            result += roman_values[s[i]]\n",
    "        else:\n",
    "            result -= roman_values[s[i]]\n",
    "    \n",
    "    return result\n",
    "print(romanToInt(\"III\"))    \n",
    "print(romanToInt(\"LVIII\"))  \n"
   ]
  },
  {
   "attachments": {},
   "cell_type": "markdown",
   "metadata": {},
   "source": [
    " 2. **Longest Substring Without Repeating Characters**\n",
    "\n",
    "Given a string `s`, find the length of the **longest substring** without repeating characters.\n",
    "\n",
    "**Example 1:**\n",
    "```\n",
    "Input: s = \"abcabcbb\"\n",
    "Output: 3\n",
    "Explanation: The answer is \"abc\", with the length of 3.\n",
    "```\n",
    "**Example 2:**\n",
    "```\n",
    "Input: s = \"bbbbb\"\n",
    "Output: 1\n",
    "Explanation: The answer is \"b\", with the length of 1.\n",
    "```\n",
    "**Example 3:**\n",
    "```\n",
    "Input: s = \"pwwkew\"\n",
    "Output: 3\n",
    "Explanation: The answer is \"wke\", with the length of 3.\n",
    "Notice that the answer must be a substring, \"pwke\" is a subsequence and not a substring.\n",
    "```\n",
    "**Constraints:**\n",
    "\n",
    "- `0 <= s.length <= 50000`\n",
    "- `s` consists of English letters, digits, symbols and spaces.\n"
   ]
  },
  {
   "attachments": {},
   "cell_type": "markdown",
   "metadata": {},
   "source": [
    "`Approach`:\n",
    "1. Create an empty set, charSet, to keep track of the unique characters in the current substring.\n",
    "2. Initialize start and end to 0.\n",
    "3. Initialize a variable max_length to 0 to store the maximum length of the substring.\n",
    "4. Iterate end over the string s:\n",
    "- Check if the character s[end] is already in the charSet:\n",
    "  - If it is, remove the character at index start from charSet and increment start by 1.\n",
    "  - If it is not, add the character s[end] to charSet.\n",
    "- Calculate the length of the current substring as end - start + 1.\n",
    "- Update max_length to the maximum of max_length and the current substring length.\n",
    "5. Return max_length."
   ]
  },
  {
   "attachments": {},
   "cell_type": "markdown",
   "metadata": {},
   "source": [
    "**Time Complexity**: `O(n)`\n",
    "\n",
    "**Space Complexity**: `O(min(n,m))`"
   ]
  },
  {
   "cell_type": "code",
   "execution_count": 2,
   "metadata": {},
   "outputs": [
    {
     "name": "stdout",
     "output_type": "stream",
     "text": [
      "3\n",
      "1\n",
      "3\n"
     ]
    }
   ],
   "source": [
    "def lengthOfLongestSubstring(s):\n",
    "    charSet = set()\n",
    "    start = 0\n",
    "    end = 0\n",
    "    max_length = 0\n",
    "\n",
    "    while end < len(s):\n",
    "        if s[end] not in charSet:\n",
    "            charSet.add(s[end])\n",
    "            end += 1\n",
    "            max_length = max(max_length, end - start)\n",
    "        else:\n",
    "            charSet.remove(s[start])\n",
    "            start += 1\n",
    "\n",
    "    return max_length\n",
    "print(lengthOfLongestSubstring(\"abcabcbb\"))  \n",
    "print(lengthOfLongestSubstring(\"bbbbb\"))     \n",
    "print(lengthOfLongestSubstring(\"pwwkew\"))    \n"
   ]
  },
  {
   "attachments": {},
   "cell_type": "markdown",
   "metadata": {},
   "source": [
    " 3. **Majority Element**\n",
    "\n",
    "Given an array `nums` of size `n`, return *the majority element*.\n",
    "\n",
    "The majority element is the element that appears more than `⌊n / 2⌋` times. You may assume that the majority element always exists in the array.\n",
    "\n",
    "**Example 1:**\n",
    "```\n",
    "Input: nums = [3,2,3]\n",
    "Output: 3\n",
    "```\n",
    "**Example 2:**\n",
    "```\n",
    "Input: nums = [2,2,1,1,1,2,2]\n",
    "Output: 2\n",
    "```\n",
    "**Constraints:**\n",
    "\n",
    "- `n == nums.length`\n",
    "- `1 <= n <= 5 * 10^4`\n",
    "- `-10^9 <= nums[i] <= 10^9`"
   ]
  },
  {
   "attachments": {},
   "cell_type": "markdown",
   "metadata": {},
   "source": [
    "`Approach`:\n",
    "1. Initialize two variables: majority and count. Set majority to None and count to 0.\n",
    "2. Iterate through each element num in the array nums:\n",
    "- If count is 0, set majority to num and count to 1.\n",
    "- If num is equal to majority, increment count by 1.\n",
    "- If num is different from majority, decrement count by 1.\n",
    "3. Return the value of majority."
   ]
  },
  {
   "attachments": {},
   "cell_type": "markdown",
   "metadata": {},
   "source": [
    "**Time Complexity**: `O(n)`\n",
    "\n",
    "**Space Complexity**: `O(1)`"
   ]
  },
  {
   "cell_type": "code",
   "execution_count": 3,
   "metadata": {},
   "outputs": [
    {
     "name": "stdout",
     "output_type": "stream",
     "text": [
      "3\n",
      "2\n"
     ]
    }
   ],
   "source": [
    "def majorityElement(nums):\n",
    "    majority = None\n",
    "    count = 0\n",
    "\n",
    "    for num in nums:\n",
    "        if count == 0:\n",
    "            majority = num\n",
    "            count = 1\n",
    "        elif num == majority:\n",
    "            count += 1\n",
    "        else:\n",
    "            count -= 1\n",
    "\n",
    "    return majority\n",
    "print(majorityElement([3, 2, 3]))                       \n",
    "print(majorityElement([2, 2, 1, 1, 1, 2, 2]))           \n"
   ]
  },
  {
   "attachments": {},
   "cell_type": "markdown",
   "metadata": {},
   "source": [
    "4. **Group Anagram**\n",
    "\n",
    "Given an array of strings `strs`, group **the anagrams** together. You can return the answer in **any order**.\n",
    "\n",
    "An **Anagram** is a word or phrase formed by rearranging the letters of a different word or phrase, typically using all the original letters exactly once.\n",
    "\n",
    "**Example 1:**\n",
    "```\n",
    "Input: strs = [\"eat\",\"tea\",\"tan\",\"ate\",\"nat\",\"bat\"]\n",
    "Output: [[\"bat\"],[\"nat\",\"tan\"],[\"ate\",\"eat\",\"tea\"]]\n",
    "```\n",
    "**Example 2:**\n",
    "```\n",
    "Input: strs = [\"\"]\n",
    "Output: [[\"\"]]\n",
    "```\n",
    "**Example 3:**\n",
    "```\n",
    "Input: strs = [\"a\"]\n",
    "Output: [[\"a\"]]\n",
    "```\n",
    "\n",
    "**Constraints:**\n",
    "\n",
    "- `1 <= strs.length <= 10000`\n",
    "- `0 <= strs[i].length <= 100`\n",
    "- `strs[i]` consists of lowercase English letters."
   ]
  },
  {
   "attachments": {},
   "cell_type": "markdown",
   "metadata": {},
   "source": [
    "`Approach`:\n",
    "1. Initialize an empty hashmap, anagram_groups.\n",
    "2. Iterate through each string, s, in the array strs:\n",
    "- Sort the characters of s to obtain its sorted version, sorted_s.\n",
    "- If sorted_s is not already a key in anagram_groups, create a new list as the value with s as its first element.\n",
    "- If sorted_s is already a key in anagram_groups, append s to the list value associated with sorted_s.\n",
    "3. Return the values of anagram_groups as the grouped anagrams."
   ]
  },
  {
   "attachments": {},
   "cell_type": "markdown",
   "metadata": {},
   "source": [
    "**Time Complexity**: `O(n log n)`\n",
    "\n",
    "**Space Complexity**: `O(n)`"
   ]
  },
  {
   "cell_type": "code",
   "execution_count": 4,
   "metadata": {},
   "outputs": [
    {
     "name": "stdout",
     "output_type": "stream",
     "text": [
      "[['eat', 'tea', 'ate'], ['tan', 'nat'], ['bat']]\n",
      "[['']]\n",
      "[['a']]\n"
     ]
    }
   ],
   "source": [
    "def groupAnagrams(strs):\n",
    "    anagram_groups = {}\n",
    "\n",
    "    for s in strs:\n",
    "        sorted_s = ''.join(sorted(s))\n",
    "        if sorted_s not in anagram_groups:\n",
    "            anagram_groups[sorted_s] = [s]\n",
    "        else:\n",
    "            anagram_groups[sorted_s].append(s)\n",
    "\n",
    "    return list(anagram_groups.values())\n",
    "print(groupAnagrams([\"eat\", \"tea\", \"tan\", \"ate\", \"nat\", \"bat\"]))\n",
    "\n",
    "print(groupAnagrams([\"\"]))\n",
    "\n",
    "print(groupAnagrams([\"a\"]))\n"
   ]
  },
  {
   "attachments": {},
   "cell_type": "markdown",
   "metadata": {},
   "source": [
    " 5. **Ugly Numbers**\n",
    "\n",
    "An **ugly number** is a positive integer whose prime factors are limited to `2`, `3`, and `5`.\n",
    "\n",
    "Given an integer `n`, return *the* `nth` ***ugly number***.\n",
    "\n",
    "**Example 1:**\n",
    "```\n",
    "Input: n = 10\n",
    "Output: 12\n",
    "Explanation: [1, 2, 3, 4, 5, 6, 8, 9, 10, 12] is the sequence of the first 10 ugly numbers.\n",
    "```\n",
    "**Example 2:**\n",
    "```\n",
    "Input: n = 1\n",
    "Output: 1\n",
    "Explanation: 1 has no prime factors, therefore all of its prime factors are limited to 2, 3, and 5.\n",
    "```\n",
    "**Constraints:**\n",
    "\n",
    "- `1 <= n <= 1690`"
   ]
  },
  {
   "attachments": {},
   "cell_type": "markdown",
   "metadata": {},
   "source": [
    "`Approach`:\n",
    "1. Create an array, ugly_nums, of size n to store the generated ugly numbers.\n",
    "2. Initialize three pointers, p2, p3, and p5, to 0, which will track the indices of the next ugly numbers to be multiplied by 2, 3, and 5, respectively.\n",
    "3. Set ugly_nums[0] to 1, as 1 is the first ugly number.\n",
    "4. Iterate from i = 1 to n-1:\n",
    "- Calculate the next ugly number as the minimum among ugly_nums[p2] * 2, ugly_nums[p3] * 3, and ugly_nums[p5] * 5.\n",
    "- Increment the corresponding pointer(s) (p2, p3, and/or p5) if the next ugly number was obtained by multiplying the corresponding prime factor.\n",
    "- Store the next ugly number in ugly_nums[i].\n",
    "5. Return the last element of ugly_nums, which is the nth ugly number."
   ]
  },
  {
   "attachments": {},
   "cell_type": "markdown",
   "metadata": {},
   "source": [
    "**Time Complexity**: `O(n)`\n",
    "\n",
    "**Space Complexity**: `O(n)`"
   ]
  },
  {
   "cell_type": "code",
   "execution_count": 5,
   "metadata": {},
   "outputs": [
    {
     "name": "stdout",
     "output_type": "stream",
     "text": [
      "12\n",
      "1\n"
     ]
    }
   ],
   "source": [
    "def nthUglyNumber(n):\n",
    "    ugly_nums = [0] * n\n",
    "    ugly_nums[0] = 1\n",
    "    p2 = p3 = p5 = 0\n",
    "\n",
    "    for i in range(1, n):\n",
    "        next_ugly = min(ugly_nums[p2] * 2, ugly_nums[p3] * 3, ugly_nums[p5] * 5)\n",
    "        ugly_nums[i] = next_ugly\n",
    "\n",
    "        if next_ugly == ugly_nums[p2] * 2:\n",
    "            p2 += 1\n",
    "        if next_ugly == ugly_nums[p3] * 3:\n",
    "            p3 += 1\n",
    "        if next_ugly == ugly_nums[p5] * 5:\n",
    "            p5 += 1\n",
    "\n",
    "    return ugly_nums[-1]\n",
    "print(nthUglyNumber(10))  \n",
    "print(nthUglyNumber(1))   \n"
   ]
  },
  {
   "attachments": {},
   "cell_type": "markdown",
   "metadata": {},
   "source": [
    " 6. **Top K Frequent Words**\n",
    "\n",
    "Given an array of strings `words` and an integer `k`, return *the* `k` *most frequent strings*.\n",
    "\n",
    "Return the answer **sorted** by **the frequency** from highest to lowest. Sort the words with the same frequency by their **lexicographical order**.\n",
    "\n",
    "**Example 1:**\n",
    "```\n",
    "Input: words = [\"i\",\"love\",\"leetcode\",\"i\",\"love\",\"coding\"], k = 2\n",
    "Output: [\"i\",\"love\"]\n",
    "Explanation: \"i\" and \"love\" are the two most frequent words.\n",
    "Note that \"i\" comes before \"love\" due to a lower alphabetical order.\n",
    "```\n",
    "\n",
    "**Example 2:**\n",
    "```\n",
    "Input: words = [\"the\",\"day\",\"is\",\"sunny\",\"the\",\"the\",\"the\",\"sunny\",\"is\",\"is\"], k = 4\n",
    "Output: [\"the\",\"is\",\"sunny\",\"day\"]\n",
    "Explanation: \"the\", \"is\", \"sunny\" and \"day\" are the four most frequent words, with the number of occurrence being 4, 3, 2 and 1 respectively.\n",
    "```\n",
    "**Constraints:**\n",
    "\n",
    "- `1 <= words.length <= 500`\n",
    "- `1 <= words[i].length <= 10`\n",
    "- `words[i]` consists of lowercase English letters.\n",
    "- `k` is in the range `[1, The number of **unique** words[i]]`"
   ]
  },
  {
   "attachments": {},
   "cell_type": "markdown",
   "metadata": {},
   "source": [
    "`Approach`:\n",
    "1. Create an empty dictionary, word_counts, to store the count of each word.\n",
    "2. Iterate through each word, word, in the array words:\n",
    "- If word is not already a key in word_counts, add it to the dictionary with a count of 1.\n",
    "- If word is already a key in word_counts, increment its count by 1.\n",
    "3. Sort the unique words in lexicographical order.\n",
    "4. Sort the words based on their count and lexicographical order. Use a custom sorting function that compares the counts first and, if they are equal, compares the words lexicographically.\n",
    "5. Return the first k words from the sorted array."
   ]
  },
  {
   "attachments": {},
   "cell_type": "markdown",
   "metadata": {},
   "source": [
    "**Time Complexity**: `O(n+m log m)`\n",
    "\n",
    "**Space Complexity**: `O(n)`"
   ]
  },
  {
   "cell_type": "code",
   "execution_count": 13,
   "metadata": {},
   "outputs": [
    {
     "name": "stdout",
     "output_type": "stream",
     "text": [
      "['i', 'love']\n",
      "['the', 'is', 'sunny', 'day']\n"
     ]
    }
   ],
   "source": [
    "from collections import Counter\n",
    "\n",
    "def topKFrequent(words, k):\n",
    "    word_counts = Counter(words)\n",
    "\n",
    "    sorted_words = sorted(word_counts.keys(), key=lambda w: (-word_counts[w], w))\n",
    "\n",
    "    return sorted_words[:k]\n",
    "print(topKFrequent([\"i\", \"love\", \"leetcode\", \"i\", \"love\", \"coding\"], 2))\n",
    "\n",
    "\n",
    "print(topKFrequent([\"the\", \"day\", \"is\", \"sunny\", \"the\", \"the\", \"the\", \"sunny\", \"is\", \"is\"], 4))\n",
    "\n"
   ]
  },
  {
   "attachments": {},
   "cell_type": "markdown",
   "metadata": {},
   "source": [
    "7. **Sliding Window Maximum**\n",
    "\n",
    "You are given an array of integers `nums`, there is a sliding window of size `k` which is moving from the very left of the array to the very right. You can only see the `k` numbers in the window. Each time the sliding window moves right by one position.\n",
    "\n",
    "Return *the max sliding window*.\n",
    "\n",
    "**Example 1:**\n",
    "```\n",
    "Input: nums = [1,3,-1,-3,5,3,6,7], k = 3\n",
    "Output: [3,3,5,5,6,7]\n",
    "Explanation:\n",
    "Window position                Max\n",
    "---------------               -----\n",
    "[1  3  -1] -3  5  3  6 7         3\n",
    " 1 [3  -1  -3] 5  3  6 7         3\n",
    " 1  3 [-1  -3  5] 3  6 7         5\n",
    " 1  3  -1 [-3  5  3] 6 7         5\n",
    " 1  3  -1  -3 [5  3  6]7         6\n",
    " 1  3  -1  -3  5 [3  6  7]       7\n",
    "```\n",
    "\n",
    "**Example 2:**\n",
    "```\n",
    "Input: nums = [1], k = 1\n",
    "Output: [1]\n",
    "```\n",
    "**Constraints:**\n",
    "\n",
    "- `1 <= nums.length <= 100000`\n",
    "- -`10000 <= nums[i] <= 10000`\n",
    "- `1 <= k <= nums.length`"
   ]
  },
  {
   "attachments": {},
   "cell_type": "markdown",
   "metadata": {},
   "source": [
    "`Approach`:\n",
    "1. Create an empty deque, window, to store the indices of elements within the current window.\n",
    "2. Create an empty list, max_values, to store the maximum values for each sliding window.\n",
    "3. Iterate through each element, num, in the array nums:\n",
    "- While the window is not empty and the element at the back of the window (index window[-1]) is less than or equal to num, remove the back element from the window.\n",
    "- Add the index i of num to the window.\n",
    "- If the index at the front of the window (index window[0]) is less than or equal to i - k, remove it from the window since it is no longer part of the current window.\n",
    "- If i is greater than or equal to k - 1, add the maximum element in the current window (the element at the front of the window) to max_values.\n",
    "4. Return max_values, which contains the maximum values for each sliding window."
   ]
  },
  {
   "attachments": {},
   "cell_type": "markdown",
   "metadata": {},
   "source": [
    "**Time Complexity**: `O(n)`\n",
    "\n",
    "**Space Complexity**: `O(k)`"
   ]
  },
  {
   "cell_type": "code",
   "execution_count": 14,
   "metadata": {},
   "outputs": [
    {
     "name": "stdout",
     "output_type": "stream",
     "text": [
      "[3, 3, 5, 5, 6, 7]\n",
      "[1]\n"
     ]
    }
   ],
   "source": [
    "from collections import deque\n",
    "\n",
    "def maxSlidingWindow(nums, k):\n",
    "    window = deque()\n",
    "    max_values = []\n",
    "\n",
    "    for i, num in enumerate(nums):\n",
    "        while window and nums[window[-1]] <= num:\n",
    "            window.pop()\n",
    "\n",
    "        window.append(i)\n",
    "\n",
    "        if window[0] <= i - k:\n",
    "            window.popleft()\n",
    "\n",
    "        if i >= k - 1:\n",
    "            max_values.append(nums[window[0]])\n",
    "\n",
    "    return max_values\n",
    "print(maxSlidingWindow([1, 3, -1, -3, 5, 3, 6, 7], 3))\n",
    "\n",
    "print(maxSlidingWindow([1], 1))\n"
   ]
  },
  {
   "attachments": {},
   "cell_type": "markdown",
   "metadata": {},
   "source": [
    "8. **Find K Closest Elements**\n",
    "\n",
    "Given a **sorted** integer array `arr`, two integers `k` and `x`, return the `k` closest integers to `x` in the array. The result should also be sorted in ascending order.\n",
    "\n",
    "An integer `a` is closer to `x` than an integer `b` if:\n",
    "\n",
    "- `|a - x| < |b - x|`, or\n",
    "- `|a - x| == |b - x|` and `a < b`\n",
    "\n",
    "**Example 1:**\n",
    "```\n",
    "Input: arr = [1,2,3,4,5], k = 4, x = 3\n",
    "Output: [1,2,3,4]\n",
    "```\n",
    "**Example 2:**\n",
    "```\n",
    "Input: arr = [1,2,3,4,5], k = 4, x = -1\n",
    "Output: [1,2,3,4]\n",
    "```\n",
    "**Constraints:**\n",
    "\n",
    "- `1 <= k <= arr.length`\n",
    "- `1 <= arr.length <= 10000`\n",
    "- `arr` is sorted in **ascending** order.\n",
    "- -`10000 <= arr[i], x <= 10000`"
   ]
  },
  {
   "attachments": {},
   "cell_type": "markdown",
   "metadata": {},
   "source": [
    "`Approach`:\n",
    "1. Initialize two pointers, left and right, to the start and end of the array arr, respectively.\n",
    "2. While the distance between left and right is greater than or equal to k:\n",
    "- Calculate the distance between the element at left and x, and the distance between the element at right and x.\n",
    "- If the distance between arr[left] and x is greater than or equal to the distance between arr[right] and x, decrement right by 1.\n",
    "- Otherwise, increment left by 1.\n",
    "3. Return the subarray from arr[left] to arr[right], which contains the k closest elements."
   ]
  },
  {
   "attachments": {},
   "cell_type": "markdown",
   "metadata": {},
   "source": [
    "**Time Complexity**: `O(log(n-k)+k)`\n",
    "\n",
    "**Space Complexity**: `O(k)`"
   ]
  },
  {
   "cell_type": "code",
   "execution_count": 15,
   "metadata": {},
   "outputs": [
    {
     "name": "stdout",
     "output_type": "stream",
     "text": [
      "[1, 2, 3, 4]\n",
      "[1, 2, 3, 4]\n"
     ]
    }
   ],
   "source": [
    "def findClosestElements(arr, k, x):\n",
    "    left = 0\n",
    "    right = len(arr) - 1\n",
    "\n",
    "    while right - left >= k:\n",
    "        if abs(arr[left] - x) > abs(arr[right] - x):\n",
    "            left += 1\n",
    "        else:\n",
    "            right -= 1\n",
    "\n",
    "    return arr[left:right+1]\n",
    "print(findClosestElements([1, 2, 3, 4, 5], 4, 3))\n",
    "# Output: [1, 2, 3, 4]\n",
    "\n",
    "print(findClosestElements([1, 2, 3, 4, 5], 4, -1))\n",
    "# Output: [1, 2, 3, 4]\n"
   ]
  }
 ],
 "metadata": {
  "kernelspec": {
   "display_name": "base",
   "language": "python",
   "name": "python3"
  },
  "language_info": {
   "codemirror_mode": {
    "name": "ipython",
    "version": 3
   },
   "file_extension": ".py",
   "mimetype": "text/x-python",
   "name": "python",
   "nbconvert_exporter": "python",
   "pygments_lexer": "ipython3",
   "version": "3.10.9"
  },
  "orig_nbformat": 4
 },
 "nbformat": 4,
 "nbformat_minor": 2
}
