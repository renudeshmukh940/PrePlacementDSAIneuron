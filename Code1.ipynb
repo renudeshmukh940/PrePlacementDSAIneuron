{
 "cells": [
  {
   "cell_type": "code",
   "execution_count": 1,
   "metadata": {},
   "outputs": [
    {
     "name": "stdout",
     "output_type": "stream",
     "text": [
      "[1, 3, 12, 0, 0]\n",
      "[0]\n"
     ]
    }
   ],
   "source": [
    "def moveZeroes(nums):\n",
    "    \n",
    "    pointer = 0\n",
    "    zero_pointer = 0\n",
    "\n",
    "    while pointer < len(nums):\n",
    "        if nums[pointer] != 0:\n",
    "            nums[zero_pointer] = nums[pointer]\n",
    "            zero_pointer += 1\n",
    "        pointer += 1\n",
    "\n",
    "    while zero_pointer < len(nums):\n",
    "        nums[zero_pointer] = 0\n",
    "        zero_pointer += 1\n",
    "nums1 = [0, 1, 0, 3, 12]\n",
    "moveZeroes(nums1)\n",
    "print(nums1)  \n",
    "nums2 = [0]\n",
    "moveZeroes(nums2)\n",
    "print(nums2)  \n",
    "\n"
   ]
  }
 ],
 "metadata": {
  "kernelspec": {
   "display_name": "base",
   "language": "python",
   "name": "python3"
  },
  "language_info": {
   "codemirror_mode": {
    "name": "ipython",
    "version": 3
   },
   "file_extension": ".py",
   "mimetype": "text/x-python",
   "name": "python",
   "nbconvert_exporter": "python",
   "pygments_lexer": "ipython3",
   "version": "3.10.9"
  },
  "orig_nbformat": 4
 },
 "nbformat": 4,
 "nbformat_minor": 2
}
