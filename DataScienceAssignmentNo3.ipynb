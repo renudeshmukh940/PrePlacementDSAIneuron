{
 "cells": [
  {
   "cell_type": "markdown",
   "metadata": {},
   "source": [
    "# Assignment N0.3 Solution"
   ]
  },
  {
   "attachments": {},
   "cell_type": "markdown",
   "metadata": {},
   "source": [
    "**1. Scenario: A company wants to analyze the sales performance of its products in different regions. They have collected the following data:**\n",
    "```\n",
    "   Region A: [10, 15, 12, 8, 14]\n",
    "   Region B: [18, 20, 16, 22, 25]\n",
    "   Calculate the mean sales for each region.\n",
    "   ```\n"
   ]
  },
  {
   "cell_type": "code",
   "execution_count": 1,
   "metadata": {},
   "outputs": [
    {
     "name": "stdout",
     "output_type": "stream",
     "text": [
      "Mean sales for Region A: 11.8\n",
      "Mean sales for Region B: 20.2\n"
     ]
    }
   ],
   "source": [
    "def calculate_mean_sales(region_sales):\n",
    "    total_sales = sum(region_sales)\n",
    "    mean_sales = total_sales / len(region_sales)\n",
    "    return mean_sales\n",
    "\n",
    "region_a_sales = [10, 15, 12, 8, 14]\n",
    "region_b_sales = [18, 20, 16, 22, 25]\n",
    "\n",
    "mean_sales_region_a = calculate_mean_sales(region_a_sales)\n",
    "mean_sales_region_b = calculate_mean_sales(region_b_sales)\n",
    "\n",
    "print(\"Mean sales for Region A:\", mean_sales_region_a)\n",
    "print(\"Mean sales for Region B:\", mean_sales_region_b)\n"
   ]
  },
  {
   "attachments": {},
   "cell_type": "markdown",
   "metadata": {},
   "source": [
    "**2. Scenario: A survey is conducted to measure customer satisfaction on a scale of 1 to 5. The data collected is as follows:**\n",
    "```\n",
    "[4, 5, 2, 3, 5, 4, 3, 2, 4, 5]\n",
    "Calculate the mode of the survey responses.\n",
    "```\n"
   ]
  },
  {
   "cell_type": "code",
   "execution_count": 2,
   "metadata": {},
   "outputs": [
    {
     "name": "stdout",
     "output_type": "stream",
     "text": [
      "Mode(s) of the survey responses: [4, 5]\n"
     ]
    }
   ],
   "source": [
    "from collections import Counter\n",
    "\n",
    "survey_responses = [4, 5, 2, 3, 5, 4, 3, 2, 4, 5]\n",
    "\n",
    "# Count the occurrences of each response\n",
    "response_counts = Counter(survey_responses)\n",
    "\n",
    "# Find the mode(s) - the most common response(s)\n",
    "modes = [response for response, count in response_counts.items() if count == max(response_counts.values())]\n",
    "\n",
    "print(\"Mode(s) of the survey responses:\", modes)\n"
   ]
  },
  {
   "attachments": {},
   "cell_type": "markdown",
   "metadata": {},
   "source": [
    "**3. Scenario: A company wants to compare the salaries of two departments. The salary data for Department A and Department B are as follows:**\n",
    " ```  \n",
    "   Department A: [5000, 6000, 5500, 7000]\n",
    "   Department B: [4500, 5500, 5800, 6000, 5200]\n",
    "   Calculate the median salary for each department.\n",
    "   ```\n"
   ]
  },
  {
   "cell_type": "code",
   "execution_count": 3,
   "metadata": {},
   "outputs": [
    {
     "name": "stdout",
     "output_type": "stream",
     "text": [
      "Median salary for Department A: 5750.0\n"
     ]
    }
   ],
   "source": [
    "import statistics\n",
    "\n",
    "department_a_salaries = [5000, 6000, 5500, 7000]\n",
    "department_b_salaries = [4500, 5500, 5800, 6000, 5200]\n",
    "\n",
    "# Calculate the median salary for Department A\n",
    "median_a = statistics.median(department_a_salaries)\n",
    "\n",
    "# Calculate the median salary for Department B\n",
    "median_b = statistics.median(department_b_salaries)\n",
    "\n",
    "# Print the results\n",
    "print(\"Median salary for Department A:\", median_a)\n",
    "print(\"Median salary for Department B:\", median_b)\n"
   ]
  },
  {
   "attachments": {},
   "cell_type": "markdown",
   "metadata": {},
   "source": [
    "**4. Scenario: A data analyst wants to determine the variability in the daily stock prices of a company. The data collected is as follows:**\n",
    "```\n",
    "   [25.5, 24.8, 26.1, 25.3, 24.9]\n",
    "   Calculate the range of the stock prices.\n",
    "```\n"
   ]
  },
  {
   "cell_type": "code",
   "execution_count": 4,
   "metadata": {},
   "outputs": [
    {
     "name": "stdout",
     "output_type": "stream",
     "text": [
      "Range of stock prices: 1.3000000000000007\n"
     ]
    }
   ],
   "source": [
    "stock_prices = [25.5, 24.8, 26.1, 25.3, 24.9]\n",
    "\n",
    "# Calculate the range of the stock prices\n",
    "price_range = max(stock_prices) - min(stock_prices)\n",
    "\n",
    "# Print the result\n",
    "print(\"Range of stock prices:\", price_range)\n"
   ]
  },
  {
   "attachments": {},
   "cell_type": "markdown",
   "metadata": {},
   "source": [
    "**5. Scenario: A study is conducted to compare the performance of two different teaching methods. The test scores of the students in each group are as follows:**\n",
    "```\n",
    "   Group A: [85, 90, 92, 88, 91]\n",
    "   Group B: [82, 88, 90, 86, 87]\n",
    "   Perform a t-test to determine if there is a significant difference in the mean scores between the two groups.\n",
    "```\n",
    "\n"
   ]
  },
  {
   "cell_type": "code",
   "execution_count": 5,
   "metadata": {},
   "outputs": [
    {
     "name": "stdout",
     "output_type": "stream",
     "text": [
      "T-Statistic: 1.4312528946642733\n",
      "P-Value: 0.19023970239078333\n"
     ]
    }
   ],
   "source": [
    "from scipy import stats\n",
    "\n",
    "group_a_scores = [85, 90, 92, 88, 91]\n",
    "group_b_scores = [82, 88, 90, 86, 87]\n",
    "\n",
    "# Perform independent t-test\n",
    "t_statistic, p_value = stats.ttest_ind(group_a_scores, group_b_scores)\n",
    "\n",
    "# Print the t-statistic and p-value\n",
    "print(\"T-Statistic:\", t_statistic)\n",
    "print(\"P-Value:\", p_value)\n"
   ]
  },
  {
   "attachments": {},
   "cell_type": "markdown",
   "metadata": {},
   "source": [
    "**6. Scenario: A company wants to analyze the relationship between advertising expenditure and sales. The data collected is as follows:**\n",
    "```\n",
    "   Advertising Expenditure (in thousands): [10, 15, 12, 8, 14]\n",
    "   Sales (in thousands): [25, 30, 28, 20, 26]\n",
    "   Calculate the correlation coefficient between advertising expenditure and sales.\n",
    "```\n"
   ]
  },
  {
   "cell_type": "code",
   "execution_count": 6,
   "metadata": {},
   "outputs": [
    {
     "name": "stdout",
     "output_type": "stream",
     "text": [
      "Correlation coefficient: 0.8757511375750132\n"
     ]
    }
   ],
   "source": [
    "import numpy as np\n",
    "\n",
    "advertising_expenditure = [10, 15, 12, 8, 14]\n",
    "sales = [25, 30, 28, 20, 26]\n",
    "\n",
    "# Calculate the correlation coefficient\n",
    "correlation_coefficient = np.corrcoef(advertising_expenditure, sales)[0, 1]\n",
    "\n",
    "# Print the result\n",
    "print(\"Correlation coefficient:\", correlation_coefficient)\n"
   ]
  },
  {
   "attachments": {},
   "cell_type": "markdown",
   "metadata": {},
   "source": [
    "**7. Scenario: A survey is conducted to measure the heights of a group of people. The data collected is as follows:**\n",
    "```\n",
    "   [160, 170, 165, 155, 175, 180, 170]\n",
    "   Calculate the standard deviation of the heights.\n",
    "```\n"
   ]
  },
  {
   "cell_type": "code",
   "execution_count": 7,
   "metadata": {},
   "outputs": [
    {
     "name": "stdout",
     "output_type": "stream",
     "text": [
      "Standard deviation of heights: 7.953949089757174\n"
     ]
    }
   ],
   "source": [
    "import numpy as np\n",
    "\n",
    "heights = [160, 170, 165, 155, 175, 180, 170]\n",
    "\n",
    "# Calculate the standard deviation of the heights\n",
    "standard_deviation = np.std(heights)\n",
    "\n",
    "# Print the result\n",
    "print(\"Standard deviation of heights:\", standard_deviation)\n"
   ]
  },
  {
   "attachments": {},
   "cell_type": "markdown",
   "metadata": {},
   "source": [
    "**8. Scenario: A company wants to analyze the relationship between employee tenure and job satisfaction. The data collected is as follows:**\n",
    "```\n",
    "   Employee Tenure (in years): [2, 3, 5, 4, 6, 2, 4]\n",
    "   Job Satisfaction (on a scale of 1 to 10): [7, 8, 6, 9, 5, 7, 6]\n",
    "   Perform a linear regression analysis to predict job satisfaction based on employee tenure.\n",
    "```\n",
    "\n",
    "\n"
   ]
  },
  {
   "cell_type": "code",
   "execution_count": 1,
   "metadata": {},
   "outputs": [
    {
     "name": "stdout",
     "output_type": "stream",
     "text": [
      "Coefficient: -0.4680851063829787\n",
      "Intercept: 8.595744680851062\n",
      "Predicted Job Satisfaction: [7.65957447 7.19148936 6.25531915 6.72340426 5.78723404 7.65957447\n",
      " 6.72340426]\n"
     ]
    }
   ],
   "source": [
    "import numpy as np\n",
    "from sklearn.linear_model import LinearRegression\n",
    "\n",
    "# Employee tenure (in years)\n",
    "tenure = np.array([2, 3, 5, 4, 6, 2, 4]).reshape(-1, 1)\n",
    "\n",
    "# Job satisfaction (on a scale of 1 to 10)\n",
    "satisfaction = np.array([7, 8, 6, 9, 5, 7, 6])\n",
    "\n",
    "# Create a linear regression model\n",
    "model = LinearRegression()\n",
    "\n",
    "# Fit the model to the data\n",
    "model.fit(tenure, satisfaction)\n",
    "\n",
    "# Predict job satisfaction based on employee tenure\n",
    "predicted_satisfaction = model.predict(tenure)\n",
    "\n",
    "# Print the coefficients\n",
    "print(\"Coefficient:\", model.coef_[0])\n",
    "print(\"Intercept:\", model.intercept_)\n",
    "\n",
    "# Print the predicted job satisfaction values\n",
    "print(\"Predicted Job Satisfaction:\", predicted_satisfaction)\n"
   ]
  },
  {
   "attachments": {},
   "cell_type": "markdown",
   "metadata": {},
   "source": [
    "**9. Scenario: A study is conducted to compare the effectiveness of two different medications. The recovery times of the patients in each group are as follows:**\n",
    "```\n",
    "   Medication A: [10, 12, 14, 11, 13]\n",
    "   Medication B: [15, 17, 16, 14, 18]\n",
    "   Perform an analysis of variance (ANOVA) to determine if there is a significant difference in the mean recovery times between the two medications.\n",
    "```\n",
    "\n"
   ]
  },
  {
   "cell_type": "code",
   "execution_count": 9,
   "metadata": {},
   "outputs": [
    {
     "name": "stdout",
     "output_type": "stream",
     "text": [
      "F-Statistic: 16.0\n",
      "P-Value: 0.003949772803445326\n"
     ]
    }
   ],
   "source": [
    "from scipy import stats\n",
    "\n",
    "medication_a_recovery_times = [10, 12, 14, 11, 13]\n",
    "medication_b_recovery_times = [15, 17, 16, 14, 18]\n",
    "\n",
    "# Perform one-way ANOVA\n",
    "f_statistic, p_value = stats.f_oneway(medication_a_recovery_times, medication_b_recovery_times)\n",
    "\n",
    "# Print the F-statistic and p-value\n",
    "print(\"F-Statistic:\", f_statistic)\n",
    "print(\"P-Value:\", p_value)\n"
   ]
  },
  {
   "attachments": {},
   "cell_type": "markdown",
   "metadata": {},
   "source": [
    "**10. Scenario: A company wants to analyze customer feedback ratings on a scale of 1 to 10. The data collected is as follows:**\n",
    "```\n",
    "    [8, 9, 7, 6, 8, 10, 9, 8, 7, 8]\n",
    "    Calculate the 75th percentile of the feedback ratings.\n",
    "```\n"
   ]
  },
  {
   "cell_type": "code",
   "execution_count": 10,
   "metadata": {},
   "outputs": [
    {
     "name": "stdout",
     "output_type": "stream",
     "text": [
      "75th percentile of feedback ratings: 8.75\n"
     ]
    }
   ],
   "source": [
    "import numpy as np\n",
    "\n",
    "feedback_ratings = [8, 9, 7, 6, 8, 10, 9, 8, 7, 8]\n",
    "\n",
    "# Calculate the 75th percentile\n",
    "percentile_75 = np.percentile(feedback_ratings, 75)\n",
    "\n",
    "# Print the result\n",
    "print(\"75th percentile of feedback ratings:\", percentile_75)\n"
   ]
  },
  {
   "attachments": {},
   "cell_type": "markdown",
   "metadata": {},
   "source": [
    "**11. Scenario: A quality control department wants to test the weight consistency of a product. The weights of a sample of products are as follows:**\n",
    "```\n",
    "    [10.2, 9.8, 10.0, 10.5, 10.3, 10.1]\n",
    "    Perform a hypothesis test to determine if the mean weight differs significantly from 10 grams.\n",
    "```\n"
   ]
  },
  {
   "cell_type": "code",
   "execution_count": 12,
   "metadata": {},
   "outputs": [
    {
     "name": "stdout",
     "output_type": "stream",
     "text": [
      "T-Statistic: 1.5126584522688367\n",
      "P-Value: 0.19077595151110102\n"
     ]
    }
   ],
   "source": [
    "from scipy import stats\n",
    "\n",
    "weights = [10.2, 9.8, 10.0, 10.5, 10.3, 10.1]\n",
    "pop_mean = 10.0  # Population mean to test against\n",
    "\n",
    "# Perform one-sample t-test\n",
    "t_statistic, p_value = stats.ttest_1samp(weights, pop_mean)\n",
    "\n",
    "# Print the t-statistic and p-value\n",
    "print(\"T-Statistic:\", t_statistic)\n",
    "print(\"P-Value:\", p_value)\n"
   ]
  },
  {
   "attachments": {},
   "cell_type": "markdown",
   "metadata": {},
   "source": [
    "**12. Scenario: A company wants to analyze the click-through rates of two different website designs. The number of clicks for each design is as follows:**\n",
    "```\n",
    "    Design A: [100, 120, 110, 90, 95]\n",
    "    Design B: [80, 85, 90, 95, 100]\n",
    "    Perform a chi-square test to determine if there is a significant difference in the click-through rates between the two designs.\n",
    "```\n",
    "\n"
   ]
  },
  {
   "cell_type": "code",
   "execution_count": 11,
   "metadata": {},
   "outputs": [
    {
     "name": "stdout",
     "output_type": "stream",
     "text": [
      "Chi-Square Statistic: 6.110658166925435\n",
      "P-Value: 0.19103526314060293\n"
     ]
    }
   ],
   "source": [
    "from scipy import stats\n",
    "import numpy as np\n",
    "\n",
    "design_a_clicks = [100, 120, 110, 90, 95]\n",
    "design_b_clicks = [80, 85, 90, 95, 100]\n",
    "\n",
    "# Perform chi-square test\n",
    "observed = np.array([design_a_clicks, design_b_clicks])\n",
    "chi2_statistic, p_value, _, _ = stats.chi2_contingency(observed)\n",
    "\n",
    "# Print the chi-square statistic and p-value\n",
    "print(\"Chi-Square Statistic:\", chi2_statistic)\n",
    "print(\"P-Value:\", p_value)\n"
   ]
  },
  {
   "attachments": {},
   "cell_type": "markdown",
   "metadata": {},
   "source": [
    "**13. Scenario: A survey is conducted to measure customer satisfaction with a product on a scale of 1 to 10. The data collected is as follows:**\n",
    "```\n",
    "    [7, 9, 6, 8, 10, 7, 8, 9, 7, 8]\n",
    "    Calculate the 95% confidence interval for the population mean satisfaction score.\n",
    "```\n",
    "\n"
   ]
  },
  {
   "cell_type": "code",
   "execution_count": 13,
   "metadata": {},
   "outputs": [
    {
     "name": "stdout",
     "output_type": "stream",
     "text": [
      "95% Confidence Interval: (7.043561120599888, 8.756438879400113)\n"
     ]
    }
   ],
   "source": [
    "from scipy import stats\n",
    "import numpy as np\n",
    "\n",
    "satisfaction_scores = [7, 9, 6, 8, 10, 7, 8, 9, 7, 8]\n",
    "\n",
    "# Calculate the sample mean and standard deviation\n",
    "sample_mean = np.mean(satisfaction_scores)\n",
    "sample_std = np.std(satisfaction_scores, ddof=1)\n",
    "\n",
    "# Set the desired confidence level\n",
    "confidence_level = 0.95\n",
    "\n",
    "# Calculate the confidence interval\n",
    "confidence_interval = stats.t.interval(confidence_level, len(satisfaction_scores) - 1, loc=sample_mean, scale=sample_std / np.sqrt(len(satisfaction_scores)))\n",
    "\n",
    "# Print the confidence interval\n",
    "print(\"95% Confidence Interval:\", confidence_interval)\n"
   ]
  },
  {
   "attachments": {},
   "cell_type": "markdown",
   "metadata": {},
   "source": [
    "**14. Scenario: A company wants to analyze the effect of temperature on product performance. The data collected is as follows:**\n",
    "```\n",
    "    Temperature (in degrees Celsius): [20, 22, 23, 19, 21]\n",
    "    Performance (on a scale of 1 to 10): [8, 7, 9, 6, 8]\n",
    "    Perform a simple linear regression to predict performance based on temperature.\n",
    "```"
   ]
  },
  {
   "cell_type": "code",
   "execution_count": 2,
   "metadata": {},
   "outputs": [
    {
     "name": "stdout",
     "output_type": "stream",
     "text": [
      "Coefficient: 0.4999999999999999\n",
      "Intercept: -2.8999999999999986\n",
      "Predicted Performance: [7.1 8.1 8.6 6.6 7.6]\n"
     ]
    }
   ],
   "source": [
    "import numpy as np\n",
    "from sklearn.linear_model import LinearRegression\n",
    "\n",
    "# Temperature (in degrees Celsius)\n",
    "temperature = np.array([20, 22, 23, 19, 21]).reshape(-1, 1)\n",
    "\n",
    "# Performance (on a scale of 1 to 10)\n",
    "performance = np.array([8, 7, 9, 6, 8])\n",
    "\n",
    "# Create a linear regression model\n",
    "model = LinearRegression()\n",
    "\n",
    "# Fit the model to the data\n",
    "model.fit(temperature, performance)\n",
    "\n",
    "# Predict performance based on temperature\n",
    "predicted_performance = model.predict(temperature)\n",
    "\n",
    "# Print the coefficients\n",
    "print(\"Coefficient:\", model.coef_[0])\n",
    "print(\"Intercept:\", model.intercept_)\n",
    "\n",
    "# Print the predicted performance values\n",
    "print(\"Predicted Performance:\", predicted_performance)\n"
   ]
  },
  {
   "attachments": {},
   "cell_type": "markdown",
   "metadata": {},
   "source": [
    "**15. Scenario: A study is conducted to compare the preferences of two groups of participants. The preferences are measured on a Likert scale from 1 to 5. The data collected is as follows:**\n",
    "```\n",
    "    Group A: [4, 3, 5, 2, 4]\n",
    "    Group B: [3, 2, 4, 3, 3]\n",
    "    Perform a Mann-Whitney U test to determine if there is a significant difference in the median preferences between the two groups.\n",
    "```\n"
   ]
  },
  {
   "cell_type": "code",
   "execution_count": 15,
   "metadata": {},
   "outputs": [
    {
     "name": "stdout",
     "output_type": "stream",
     "text": [
      "Mann-Whitney U Statistic: 17.0\n",
      "P-Value: 0.380836480306712\n"
     ]
    }
   ],
   "source": [
    "from scipy import stats\n",
    "\n",
    "group_a_preferences = [4, 3, 5, 2, 4]\n",
    "group_b_preferences = [3, 2, 4, 3, 3]\n",
    "\n",
    "# Perform Mann-Whitney U test\n",
    "statistic, p_value = stats.mannwhitneyu(group_a_preferences, group_b_preferences)\n",
    "\n",
    "# Print the test statistic and p-value\n",
    "print(\"Mann-Whitney U Statistic:\", statistic)\n",
    "print(\"P-Value:\", p_value)\n"
   ]
  },
  {
   "attachments": {},
   "cell_type": "markdown",
   "metadata": {},
   "source": [
    "**16. Scenario: A company wants to analyze the distribution of customer ages. The data collected is as follows:**\n",
    "```\n",
    "    [25, 30, 35, 40, 45, 50, 55, 60, 65, 70]\n",
    "    Calculate the interquartile range (IQR) of the ages.\n",
    "```\n"
   ]
  },
  {
   "cell_type": "code",
   "execution_count": 16,
   "metadata": {},
   "outputs": [
    {
     "name": "stdout",
     "output_type": "stream",
     "text": [
      "Interquartile Range (IQR) of ages: 22.5\n"
     ]
    }
   ],
   "source": [
    "import numpy as np\n",
    "\n",
    "ages = [25, 30, 35, 40, 45, 50, 55, 60, 65, 70]\n",
    "\n",
    "# Calculate the 25th and 75th percentiles\n",
    "q1 = np.percentile(ages, 25)\n",
    "q3 = np.percentile(ages, 75)\n",
    "\n",
    "# Calculate the interquartile range\n",
    "iqr = q3 - q1\n",
    "\n",
    "# Print the result\n",
    "print(\"Interquartile Range (IQR) of ages:\", iqr)\n"
   ]
  },
  {
   "attachments": {},
   "cell_type": "markdown",
   "metadata": {},
   "source": [
    "**17. Scenario: A study is conducted to compare the performance of three different machine learning algorithms. The accuracy scores for each algorithm are as follows:**\n",
    "```\n",
    "    Algorithm A: [0.85, 0.80, 0.82, 0.87, 0.83]\n",
    "    Algorithm B: [0.78, 0.82, 0.84, 0.80, 0.79]\n",
    "    Algorithm C: [0.90, 0.88, 0.89, 0.86, 0.87]\n",
    "    Perform a Kruskal-Wallis test to determine if there is a significant difference in the median accuracy scores between the algorithms.\n",
    "```\n",
    "\n"
   ]
  },
  {
   "cell_type": "code",
   "execution_count": 17,
   "metadata": {},
   "outputs": [
    {
     "name": "stdout",
     "output_type": "stream",
     "text": [
      "Kruskal-Wallis Statistic: 9.696947935368053\n",
      "P-Value: 0.007840333026249539\n"
     ]
    }
   ],
   "source": [
    "from scipy import stats\n",
    "\n",
    "algorithm_a_scores = [0.85, 0.80, 0.82, 0.87, 0.83]\n",
    "algorithm_b_scores = [0.78, 0.82, 0.84, 0.80, 0.79]\n",
    "algorithm_c_scores = [0.90, 0.88, 0.89, 0.86, 0.87]\n",
    "\n",
    "# Perform Kruskal-Wallis test\n",
    "statistic, p_value = stats.kruskal(algorithm_a_scores, algorithm_b_scores, algorithm_c_scores)\n",
    "\n",
    "# Print the test statistic and p-value\n",
    "print(\"Kruskal-Wallis Statistic:\", statistic)\n",
    "print(\"P-Value:\", p_value)\n"
   ]
  },
  {
   "attachments": {},
   "cell_type": "markdown",
   "metadata": {},
   "source": [
    "**18. Scenario: A company wants to analyze the effect of price on sales. The data collected is as follows:**\n",
    "```\n",
    "    Price (in dollars): [10, 15, 12, 8, 14]\n",
    "    Sales: [100, 80, 90, 110, 95]\n",
    "    Perform a simple linear regression to predict sales based on price.\n",
    "```\n"
   ]
  },
  {
   "cell_type": "code",
   "execution_count": 3,
   "metadata": {},
   "outputs": [
    {
     "name": "stdout",
     "output_type": "stream",
     "text": [
      "Coefficient: -3.506097560975611\n",
      "Intercept: 136.3719512195122\n",
      "Predicted Sales: [101.31097561  83.7804878   94.29878049 108.32317073  87.28658537]\n"
     ]
    }
   ],
   "source": [
    "import numpy as np\n",
    "from sklearn.linear_model import LinearRegression\n",
    "\n",
    "# Price (in dollars)\n",
    "price = np.array([10, 15, 12, 8, 14]).reshape(-1, 1)\n",
    "\n",
    "# Sales\n",
    "sales = np.array([100, 80, 90, 110, 95])\n",
    "\n",
    "# Create a linear regression model\n",
    "model = LinearRegression()\n",
    "\n",
    "# Fit the model to the data\n",
    "model.fit(price, sales)\n",
    "\n",
    "# Predict sales based on price\n",
    "predicted_sales = model.predict(price)\n",
    "\n",
    "# Print the coefficients\n",
    "print(\"Coefficient:\", model.coef_[0])\n",
    "print(\"Intercept:\", model.intercept_)\n",
    "\n",
    "# Print the predicted sales values\n",
    "print(\"Predicted Sales:\", predicted_sales)\n"
   ]
  },
  {
   "attachments": {},
   "cell_type": "markdown",
   "metadata": {},
   "source": [
    "**19. Scenario: A survey is conducted to measure the satisfaction levels of customers with a new product. The data collected is as follows:**\n",
    "```\n",
    "    [7, 8, 9, 6, 8, 7, 9, 7, 8, 7]\n",
    "    Calculate the standard error of the mean satisfaction score.\n",
    "```\n"
   ]
  },
  {
   "cell_type": "code",
   "execution_count": 19,
   "metadata": {},
   "outputs": [
    {
     "name": "stdout",
     "output_type": "stream",
     "text": [
      "Standard Error of the Mean: 0.30550504633038933\n"
     ]
    }
   ],
   "source": [
    "from scipy import stats\n",
    "import numpy as np\n",
    "\n",
    "satisfaction_scores = [7, 8, 9, 6, 8, 7, 9, 7, 8, 7]\n",
    "\n",
    "# Calculate the standard error of the mean\n",
    "standard_error = stats.sem(satisfaction_scores)\n",
    "\n",
    "# Print the result\n",
    "print(\"Standard Error of the Mean:\", standard_error)\n"
   ]
  },
  {
   "attachments": {},
   "cell_type": "markdown",
   "metadata": {},
   "source": [
    "**20. Scenario: A company wants to analyze the relationship between advertising expenditure and sales. The data collected is as follows:**\n",
    "```\n",
    "    Advertising Expenditure (in thousands): [10, 15, 12, 8, 14]\n",
    "    Sales (in thousands): [25, 30, 28, 20, 26]\n",
    "    Perform a multiple regression analysis to predict sales based on advertising expenditure.\n",
    "```\n"
   ]
  },
  {
   "cell_type": "code",
   "execution_count": 4,
   "metadata": {},
   "outputs": [
    {
     "name": "stdout",
     "output_type": "stream",
     "text": [
      "Coefficient: 1.152439024390244\n",
      "Intercept: 12.20121951219512\n",
      "Predicted Sales: [23.72560976 29.48780488 26.0304878  21.42073171 28.33536585]\n"
     ]
    }
   ],
   "source": [
    "import numpy as np\n",
    "from sklearn.linear_model import LinearRegression\n",
    "\n",
    "# Advertising Expenditure (in thousands)\n",
    "expenditure = np.array([10, 15, 12, 8, 14]).reshape(-1, 1)\n",
    "\n",
    "# Sales (in thousands)\n",
    "sales = np.array([25, 30, 28, 20, 26])\n",
    "\n",
    "# Create a linear regression model\n",
    "model = LinearRegression()\n",
    "\n",
    "# Fit the model to the data\n",
    "model.fit(expenditure, sales)\n",
    "\n",
    "# Predict sales based on advertising expenditure\n",
    "predicted_sales = model.predict(expenditure)\n",
    "\n",
    "# Print the coefficients\n",
    "print(\"Coefficient:\", model.coef_[0])\n",
    "print(\"Intercept:\", model.intercept_)\n",
    "\n",
    "# Print the predicted sales values\n",
    "print(\"Predicted Sales:\", predicted_sales)\n"
   ]
  }
 ],
 "metadata": {
  "kernelspec": {
   "display_name": "base",
   "language": "python",
   "name": "python3"
  },
  "language_info": {
   "codemirror_mode": {
    "name": "ipython",
    "version": 3
   },
   "file_extension": ".py",
   "mimetype": "text/x-python",
   "name": "python",
   "nbconvert_exporter": "python",
   "pygments_lexer": "ipython3",
   "version": "3.10.9"
  },
  "orig_nbformat": 4
 },
 "nbformat": 4,
 "nbformat_minor": 2
}
